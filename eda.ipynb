{
 "cells": [
  {
   "cell_type": "code",
   "execution_count": 207,
   "metadata": {},
   "outputs": [
    {
     "name": "stderr",
     "output_type": "stream",
     "text": [
      "/Users/kelvinfoo/Library/Python/3.9/lib/python/site-packages/tqdm/auto.py:21: TqdmWarning: IProgress not found. Please update jupyter and ipywidgets. See https://ipywidgets.readthedocs.io/en/stable/user_install.html\n",
      "  from .autonotebook import tqdm as notebook_tqdm\n"
     ]
    },
    {
     "data": {
      "text/html": [
       "<div>\n",
       "<style scoped>\n",
       "    .dataframe tbody tr th:only-of-type {\n",
       "        vertical-align: middle;\n",
       "    }\n",
       "\n",
       "    .dataframe tbody tr th {\n",
       "        vertical-align: top;\n",
       "    }\n",
       "\n",
       "    .dataframe thead th {\n",
       "        text-align: right;\n",
       "    }\n",
       "</style>\n",
       "<table border=\"1\" class=\"dataframe\">\n",
       "  <thead>\n",
       "    <tr style=\"text-align: right;\">\n",
       "      <th></th>\n",
       "      <th>booking_id</th>\n",
       "      <th>no_show</th>\n",
       "      <th>branch</th>\n",
       "      <th>booking_month</th>\n",
       "      <th>arrival_month</th>\n",
       "      <th>arrival_day</th>\n",
       "      <th>checkout_month</th>\n",
       "      <th>checkout_day</th>\n",
       "      <th>country</th>\n",
       "      <th>first_time</th>\n",
       "      <th>room</th>\n",
       "      <th>price</th>\n",
       "      <th>platform</th>\n",
       "      <th>num_adults</th>\n",
       "      <th>num_children</th>\n",
       "    </tr>\n",
       "  </thead>\n",
       "  <tbody>\n",
       "    <tr>\n",
       "      <th>0</th>\n",
       "      <td>94113</td>\n",
       "      <td>0.0</td>\n",
       "      <td>Changi</td>\n",
       "      <td>November</td>\n",
       "      <td>June</td>\n",
       "      <td>25.0</td>\n",
       "      <td>June</td>\n",
       "      <td>27.0</td>\n",
       "      <td>Singapore</td>\n",
       "      <td>Yes</td>\n",
       "      <td>Single</td>\n",
       "      <td>SGD$ 492.98</td>\n",
       "      <td>Website</td>\n",
       "      <td>1</td>\n",
       "      <td>0.0</td>\n",
       "    </tr>\n",
       "    <tr>\n",
       "      <th>1</th>\n",
       "      <td>86543</td>\n",
       "      <td>0.0</td>\n",
       "      <td>Orchard</td>\n",
       "      <td>August</td>\n",
       "      <td>November</td>\n",
       "      <td>28.0</td>\n",
       "      <td>November</td>\n",
       "      <td>29.0</td>\n",
       "      <td>Indonesia</td>\n",
       "      <td>Yes</td>\n",
       "      <td>King</td>\n",
       "      <td>SGD$ 1351.22</td>\n",
       "      <td>Website</td>\n",
       "      <td>2</td>\n",
       "      <td>0.0</td>\n",
       "    </tr>\n",
       "    <tr>\n",
       "      <th>2</th>\n",
       "      <td>75928</td>\n",
       "      <td>0.0</td>\n",
       "      <td>Changi</td>\n",
       "      <td>March</td>\n",
       "      <td>February</td>\n",
       "      <td>7.0</td>\n",
       "      <td>February</td>\n",
       "      <td>11.0</td>\n",
       "      <td>India</td>\n",
       "      <td>Yes</td>\n",
       "      <td>Single</td>\n",
       "      <td>None</td>\n",
       "      <td>Agent</td>\n",
       "      <td>1</td>\n",
       "      <td>0.0</td>\n",
       "    </tr>\n",
       "    <tr>\n",
       "      <th>3</th>\n",
       "      <td>66947</td>\n",
       "      <td>1.0</td>\n",
       "      <td>Orchard</td>\n",
       "      <td>September</td>\n",
       "      <td>October</td>\n",
       "      <td>1.0</td>\n",
       "      <td>October</td>\n",
       "      <td>3.0</td>\n",
       "      <td>China</td>\n",
       "      <td>Yes</td>\n",
       "      <td>Single</td>\n",
       "      <td>SGD$ 666.04</td>\n",
       "      <td>Website</td>\n",
       "      <td>1</td>\n",
       "      <td>0.0</td>\n",
       "    </tr>\n",
       "    <tr>\n",
       "      <th>4</th>\n",
       "      <td>106390</td>\n",
       "      <td>0.0</td>\n",
       "      <td>Orchard</td>\n",
       "      <td>March</td>\n",
       "      <td>June</td>\n",
       "      <td>20.0</td>\n",
       "      <td>June</td>\n",
       "      <td>24.0</td>\n",
       "      <td>Australia</td>\n",
       "      <td>Yes</td>\n",
       "      <td>Queen</td>\n",
       "      <td>USD$ 665.37</td>\n",
       "      <td>Website</td>\n",
       "      <td>1</td>\n",
       "      <td>0.0</td>\n",
       "    </tr>\n",
       "  </tbody>\n",
       "</table>\n",
       "</div>"
      ],
      "text/plain": [
       "   booking_id  no_show   branch booking_month arrival_month  arrival_day  \\\n",
       "0       94113      0.0   Changi      November          June         25.0   \n",
       "1       86543      0.0  Orchard        August      November         28.0   \n",
       "2       75928      0.0   Changi         March      February          7.0   \n",
       "3       66947      1.0  Orchard     September       October          1.0   \n",
       "4      106390      0.0  Orchard         March          June         20.0   \n",
       "\n",
       "  checkout_month  checkout_day    country first_time    room         price  \\\n",
       "0           June          27.0  Singapore        Yes  Single   SGD$ 492.98   \n",
       "1       November          29.0  Indonesia        Yes    King  SGD$ 1351.22   \n",
       "2       February          11.0      India        Yes  Single          None   \n",
       "3        October           3.0      China        Yes  Single   SGD$ 666.04   \n",
       "4           June          24.0  Australia        Yes   Queen   USD$ 665.37   \n",
       "\n",
       "  platform num_adults  num_children  \n",
       "0  Website          1           0.0  \n",
       "1  Website          2           0.0  \n",
       "2    Agent          1           0.0  \n",
       "3  Website          1           0.0  \n",
       "4  Website          1           0.0  "
      ]
     },
     "execution_count": 207,
     "metadata": {},
     "output_type": "execute_result"
    }
   ],
   "source": [
    "import sqlite3 \n",
    "import pandas as pd \n",
    "import numpy as np \n",
    "import matplotlib.pyplot as plt \n",
    "import seaborn as sns \n",
    "from sklearn.model_selection import train_test_split\n",
    "from sklearn.preprocessing import OneHotEncoder, StandardScaler\n",
    "from sklearn.ensemble import RandomForestRegressor\n",
    "from sklearn.metrics import root_mean_squared_error, accuracy_score, recall_score, ConfusionMatrixDisplay, confusion_matrix, roc_auc_score\n",
    "\n",
    "from sklearn.neighbors import KNeighborsClassifier\n",
    "from sklearn.linear_model import LogisticRegression\n",
    "from sklearn import svm\n",
    "from sklearn.ensemble import RandomForestClassifier\n",
    "import xgboost as xgb\n",
    "\n",
    "import optuna\n",
    "\n",
    "\n",
    "import scipy.stats \n",
    "from scipy.stats import chi2_contingency, kruskal\n",
    "\n",
    "conn = sqlite3.connect(\"/Users/kelvinfoo/Desktop/AISG Technical Assignments/Hotel Noshow Prediction/noshow.db\")\n",
    "df = pd.read_sql_query('SELECT * FROM noshow', conn)\n",
    "df.head()"
   ]
  },
  {
   "cell_type": "markdown",
   "metadata": {},
   "source": [
    "#### **Types of features in df:**\n",
    "**1. Categorical**\n",
    "- no_show: Whether the customer showed up for his reservation. \n",
    "- branch\n",
    "- booking_month\n",
    "- arrival_month\n",
    "- arrival_day \n",
    "- checkout_month\n",
    "- checkout_day \n",
    "- country: Where the customer came from.\n",
    "- first_time: Whether it was the customer's first time at the hotel. \n",
    "- room\n",
    "- platform: The platform where the customer reserved the hotel.\n",
    "\n",
    "**2. Numerical**\n",
    "- price: Price (per night) for the room booked. \n",
    "- num_adults\n",
    "- num_children"
   ]
  },
  {
   "cell_type": "markdown",
   "metadata": {},
   "source": [
    "### **Dealing with Duplicate Records**"
   ]
  },
  {
   "cell_type": "code",
   "execution_count": 136,
   "metadata": {},
   "outputs": [
    {
     "name": "stdout",
     "output_type": "stream",
     "text": [
      "There were 119391 rows and there were 119391 unique booking IDs in df. Hence, no booking ID was repeated twice.\n"
     ]
    }
   ],
   "source": [
    "print(f\"There were {df.shape[0]} rows and there were {df['booking_id'].nunique()} unique booking IDs in df. Hence, no booking ID was repeated twice.\")"
   ]
  },
  {
   "cell_type": "code",
   "execution_count": 137,
   "metadata": {},
   "outputs": [
    {
     "data": {
      "text/plain": [
       "False    118577\n",
       "True        814\n",
       "Name: count, dtype: int64"
      ]
     },
     "execution_count": 137,
     "metadata": {},
     "output_type": "execute_result"
    }
   ],
   "source": [
    "df_no_id = df.drop('booking_id', axis = 1) # Booking ID has no purpose in EDA and model building.\n",
    "\n",
    "# Check for duplicates \n",
    "df_no_id.duplicated().value_counts()"
   ]
  },
  {
   "cell_type": "code",
   "execution_count": 138,
   "metadata": {},
   "outputs": [
    {
     "data": {
      "text/html": [
       "<div>\n",
       "<style scoped>\n",
       "    .dataframe tbody tr th:only-of-type {\n",
       "        vertical-align: middle;\n",
       "    }\n",
       "\n",
       "    .dataframe tbody tr th {\n",
       "        vertical-align: top;\n",
       "    }\n",
       "\n",
       "    .dataframe thead th {\n",
       "        text-align: right;\n",
       "    }\n",
       "</style>\n",
       "<table border=\"1\" class=\"dataframe\">\n",
       "  <thead>\n",
       "    <tr style=\"text-align: right;\">\n",
       "      <th></th>\n",
       "      <th>no_show</th>\n",
       "      <th>branch</th>\n",
       "      <th>booking_month</th>\n",
       "      <th>arrival_month</th>\n",
       "      <th>arrival_day</th>\n",
       "      <th>checkout_month</th>\n",
       "      <th>checkout_day</th>\n",
       "      <th>country</th>\n",
       "      <th>first_time</th>\n",
       "      <th>room</th>\n",
       "      <th>price</th>\n",
       "      <th>platform</th>\n",
       "      <th>num_adults</th>\n",
       "      <th>num_children</th>\n",
       "    </tr>\n",
       "  </thead>\n",
       "  <tbody>\n",
       "    <tr>\n",
       "      <th>34121</th>\n",
       "      <td>1.0</td>\n",
       "      <td>Changi</td>\n",
       "      <td>April</td>\n",
       "      <td>April</td>\n",
       "      <td>13.0</td>\n",
       "      <td>April</td>\n",
       "      <td>14.0</td>\n",
       "      <td>China</td>\n",
       "      <td>Yes</td>\n",
       "      <td>King</td>\n",
       "      <td>None</td>\n",
       "      <td>Website</td>\n",
       "      <td>1</td>\n",
       "      <td>0.0</td>\n",
       "    </tr>\n",
       "    <tr>\n",
       "      <th>98808</th>\n",
       "      <td>0.0</td>\n",
       "      <td>Changi</td>\n",
       "      <td>April</td>\n",
       "      <td>April</td>\n",
       "      <td>17.0</td>\n",
       "      <td>April</td>\n",
       "      <td>18.0</td>\n",
       "      <td>Japan</td>\n",
       "      <td>Yes</td>\n",
       "      <td>King</td>\n",
       "      <td>None</td>\n",
       "      <td>Agent</td>\n",
       "      <td>1</td>\n",
       "      <td>2.0</td>\n",
       "    </tr>\n",
       "    <tr>\n",
       "      <th>114041</th>\n",
       "      <td>0.0</td>\n",
       "      <td>Changi</td>\n",
       "      <td>April</td>\n",
       "      <td>April</td>\n",
       "      <td>17.0</td>\n",
       "      <td>April</td>\n",
       "      <td>18.0</td>\n",
       "      <td>Indonesia</td>\n",
       "      <td>Yes</td>\n",
       "      <td>King</td>\n",
       "      <td>None</td>\n",
       "      <td>Website</td>\n",
       "      <td>2</td>\n",
       "      <td>0.0</td>\n",
       "    </tr>\n",
       "    <tr>\n",
       "      <th>65463</th>\n",
       "      <td>1.0</td>\n",
       "      <td>Changi</td>\n",
       "      <td>April</td>\n",
       "      <td>April</td>\n",
       "      <td>21.0</td>\n",
       "      <td>April</td>\n",
       "      <td>23.0</td>\n",
       "      <td>China</td>\n",
       "      <td>Yes</td>\n",
       "      <td>King</td>\n",
       "      <td>None</td>\n",
       "      <td>Agent</td>\n",
       "      <td>1</td>\n",
       "      <td>2.0</td>\n",
       "    </tr>\n",
       "    <tr>\n",
       "      <th>37829</th>\n",
       "      <td>1.0</td>\n",
       "      <td>Changi</td>\n",
       "      <td>April</td>\n",
       "      <td>April</td>\n",
       "      <td>26.0</td>\n",
       "      <td>April</td>\n",
       "      <td>29.0</td>\n",
       "      <td>China</td>\n",
       "      <td>Yes</td>\n",
       "      <td>King</td>\n",
       "      <td>None</td>\n",
       "      <td>Website</td>\n",
       "      <td>2</td>\n",
       "      <td>0.0</td>\n",
       "    </tr>\n",
       "    <tr>\n",
       "      <th>74513</th>\n",
       "      <td>1.0</td>\n",
       "      <td>Changi</td>\n",
       "      <td>April</td>\n",
       "      <td>April</td>\n",
       "      <td>26.0</td>\n",
       "      <td>April</td>\n",
       "      <td>29.0</td>\n",
       "      <td>China</td>\n",
       "      <td>Yes</td>\n",
       "      <td>King</td>\n",
       "      <td>None</td>\n",
       "      <td>Website</td>\n",
       "      <td>2</td>\n",
       "      <td>0.0</td>\n",
       "    </tr>\n",
       "    <tr>\n",
       "      <th>82615</th>\n",
       "      <td>1.0</td>\n",
       "      <td>Changi</td>\n",
       "      <td>April</td>\n",
       "      <td>April</td>\n",
       "      <td>26.0</td>\n",
       "      <td>April</td>\n",
       "      <td>29.0</td>\n",
       "      <td>China</td>\n",
       "      <td>Yes</td>\n",
       "      <td>King</td>\n",
       "      <td>None</td>\n",
       "      <td>Website</td>\n",
       "      <td>2</td>\n",
       "      <td>2.0</td>\n",
       "    </tr>\n",
       "    <tr>\n",
       "      <th>104195</th>\n",
       "      <td>1.0</td>\n",
       "      <td>Changi</td>\n",
       "      <td>April</td>\n",
       "      <td>April</td>\n",
       "      <td>26.0</td>\n",
       "      <td>April</td>\n",
       "      <td>29.0</td>\n",
       "      <td>China</td>\n",
       "      <td>Yes</td>\n",
       "      <td>King</td>\n",
       "      <td>None</td>\n",
       "      <td>Website</td>\n",
       "      <td>2</td>\n",
       "      <td>2.0</td>\n",
       "    </tr>\n",
       "    <tr>\n",
       "      <th>107744</th>\n",
       "      <td>1.0</td>\n",
       "      <td>Changi</td>\n",
       "      <td>April</td>\n",
       "      <td>April</td>\n",
       "      <td>26.0</td>\n",
       "      <td>April</td>\n",
       "      <td>29.0</td>\n",
       "      <td>China</td>\n",
       "      <td>Yes</td>\n",
       "      <td>King</td>\n",
       "      <td>None</td>\n",
       "      <td>Website</td>\n",
       "      <td>1</td>\n",
       "      <td>1.0</td>\n",
       "    </tr>\n",
       "    <tr>\n",
       "      <th>55479</th>\n",
       "      <td>0.0</td>\n",
       "      <td>Changi</td>\n",
       "      <td>April</td>\n",
       "      <td>August</td>\n",
       "      <td>3.0</td>\n",
       "      <td>August</td>\n",
       "      <td>4.0</td>\n",
       "      <td>Indonesia</td>\n",
       "      <td>Yes</td>\n",
       "      <td>King</td>\n",
       "      <td>None</td>\n",
       "      <td>Website</td>\n",
       "      <td>1</td>\n",
       "      <td>0.0</td>\n",
       "    </tr>\n",
       "  </tbody>\n",
       "</table>\n",
       "</div>"
      ],
      "text/plain": [
       "        no_show  branch booking_month arrival_month  arrival_day  \\\n",
       "34121       1.0  Changi         April         April         13.0   \n",
       "98808       0.0  Changi         April         April         17.0   \n",
       "114041      0.0  Changi         April         April         17.0   \n",
       "65463       1.0  Changi         April         April         21.0   \n",
       "37829       1.0  Changi         April         April         26.0   \n",
       "74513       1.0  Changi         April         April         26.0   \n",
       "82615       1.0  Changi         April         April         26.0   \n",
       "104195      1.0  Changi         April         April         26.0   \n",
       "107744      1.0  Changi         April         April         26.0   \n",
       "55479       0.0  Changi         April        August          3.0   \n",
       "\n",
       "       checkout_month  checkout_day    country first_time  room price  \\\n",
       "34121           April          14.0      China        Yes  King  None   \n",
       "98808           April          18.0      Japan        Yes  King  None   \n",
       "114041          April          18.0  Indonesia        Yes  King  None   \n",
       "65463           April          23.0      China        Yes  King  None   \n",
       "37829           April          29.0      China        Yes  King  None   \n",
       "74513           April          29.0      China        Yes  King  None   \n",
       "82615           April          29.0      China        Yes  King  None   \n",
       "104195          April          29.0      China        Yes  King  None   \n",
       "107744          April          29.0      China        Yes  King  None   \n",
       "55479          August           4.0  Indonesia        Yes  King  None   \n",
       "\n",
       "       platform num_adults  num_children  \n",
       "34121   Website          1           0.0  \n",
       "98808     Agent          1           2.0  \n",
       "114041  Website          2           0.0  \n",
       "65463     Agent          1           2.0  \n",
       "37829   Website          2           0.0  \n",
       "74513   Website          2           0.0  \n",
       "82615   Website          2           2.0  \n",
       "104195  Website          2           2.0  \n",
       "107744  Website          1           1.0  \n",
       "55479   Website          1           0.0  "
      ]
     },
     "execution_count": 138,
     "metadata": {},
     "output_type": "execute_result"
    }
   ],
   "source": [
    "df_no_id[df_no_id.duplicated() == True].sort_values(['branch', 'booking_month', 'arrival_month', 'arrival_day']).head(10)"
   ]
  },
  {
   "cell_type": "markdown",
   "metadata": {},
   "source": [
    "- After disregarding the booking ID, there were 814 duplicate booking records.\n",
    "- We will drop the duplicate booking records to prevent data leakage when training machine learning models."
   ]
  },
  {
   "cell_type": "code",
   "execution_count": 139,
   "metadata": {},
   "outputs": [
    {
     "name": "stdout",
     "output_type": "stream",
     "text": [
      "There were 118577 rows after the removal of duplicate booking records.\n"
     ]
    }
   ],
   "source": [
    "df = df_no_id.drop_duplicates()\n",
    "print(f\"There were {df.shape[0]} rows after the removal of duplicate booking records.\")"
   ]
  },
  {
   "cell_type": "markdown",
   "metadata": {},
   "source": [
    "### **Dealing with Missing Records**"
   ]
  },
  {
   "cell_type": "code",
   "execution_count": 140,
   "metadata": {},
   "outputs": [
    {
     "data": {
      "text/plain": [
       "no_show               1\n",
       "branch                1\n",
       "booking_month         1\n",
       "arrival_month         1\n",
       "arrival_day           1\n",
       "checkout_month        1\n",
       "checkout_day          1\n",
       "country               1\n",
       "first_time            1\n",
       "room              21613\n",
       "price             24068\n",
       "platform              1\n",
       "num_adults            1\n",
       "num_children          1\n",
       "dtype: int64"
      ]
     },
     "execution_count": 140,
     "metadata": {},
     "output_type": "execute_result"
    }
   ],
   "source": [
    "# Number of missing records in each column\n",
    "df.isna().sum()"
   ]
  },
  {
   "cell_type": "code",
   "execution_count": 141,
   "metadata": {},
   "outputs": [
    {
     "data": {
      "text/html": [
       "<div>\n",
       "<style scoped>\n",
       "    .dataframe tbody tr th:only-of-type {\n",
       "        vertical-align: middle;\n",
       "    }\n",
       "\n",
       "    .dataframe tbody tr th {\n",
       "        vertical-align: top;\n",
       "    }\n",
       "\n",
       "    .dataframe thead th {\n",
       "        text-align: right;\n",
       "    }\n",
       "</style>\n",
       "<table border=\"1\" class=\"dataframe\">\n",
       "  <thead>\n",
       "    <tr style=\"text-align: right;\">\n",
       "      <th></th>\n",
       "      <th>no_show</th>\n",
       "      <th>branch</th>\n",
       "      <th>booking_month</th>\n",
       "      <th>arrival_month</th>\n",
       "      <th>arrival_day</th>\n",
       "      <th>checkout_month</th>\n",
       "      <th>checkout_day</th>\n",
       "      <th>country</th>\n",
       "      <th>first_time</th>\n",
       "      <th>room</th>\n",
       "      <th>price</th>\n",
       "      <th>platform</th>\n",
       "      <th>num_adults</th>\n",
       "      <th>num_children</th>\n",
       "    </tr>\n",
       "  </thead>\n",
       "  <tbody>\n",
       "    <tr>\n",
       "      <th>111598</th>\n",
       "      <td>NaN</td>\n",
       "      <td>None</td>\n",
       "      <td>None</td>\n",
       "      <td>None</td>\n",
       "      <td>NaN</td>\n",
       "      <td>None</td>\n",
       "      <td>NaN</td>\n",
       "      <td>None</td>\n",
       "      <td>None</td>\n",
       "      <td>None</td>\n",
       "      <td>None</td>\n",
       "      <td>None</td>\n",
       "      <td>None</td>\n",
       "      <td>NaN</td>\n",
       "    </tr>\n",
       "  </tbody>\n",
       "</table>\n",
       "</div>"
      ],
      "text/plain": [
       "        no_show branch booking_month arrival_month  arrival_day  \\\n",
       "111598      NaN   None          None          None          NaN   \n",
       "\n",
       "       checkout_month  checkout_day country first_time  room price platform  \\\n",
       "111598           None           NaN    None       None  None  None     None   \n",
       "\n",
       "       num_adults  num_children  \n",
       "111598       None           NaN  "
      ]
     },
     "execution_count": 141,
     "metadata": {},
     "output_type": "execute_result"
    }
   ],
   "source": [
    "df[df['no_show'].isna() == True]"
   ]
  },
  {
   "cell_type": "code",
   "execution_count": 142,
   "metadata": {},
   "outputs": [
    {
     "data": {
      "text/plain": [
       "no_show               0\n",
       "branch                0\n",
       "booking_month         0\n",
       "arrival_month         0\n",
       "arrival_day           0\n",
       "checkout_month        0\n",
       "checkout_day          0\n",
       "country               0\n",
       "first_time            0\n",
       "room              21612\n",
       "price             24067\n",
       "platform              0\n",
       "num_adults            0\n",
       "num_children          0\n",
       "dtype: int64"
      ]
     },
     "execution_count": 142,
     "metadata": {},
     "output_type": "execute_result"
    }
   ],
   "source": [
    "# Drop this row since all features are null \n",
    "df = df[df['no_show'].isna() == False]\n",
    "df.isna().sum()"
   ]
  },
  {
   "cell_type": "markdown",
   "metadata": {},
   "source": [
    "- There were only two features with missing values: room and price."
   ]
  },
  {
   "cell_type": "code",
   "execution_count": 143,
   "metadata": {},
   "outputs": [
    {
     "data": {
      "text/html": [
       "<div>\n",
       "<style scoped>\n",
       "    .dataframe tbody tr th:only-of-type {\n",
       "        vertical-align: middle;\n",
       "    }\n",
       "\n",
       "    .dataframe tbody tr th {\n",
       "        vertical-align: top;\n",
       "    }\n",
       "\n",
       "    .dataframe thead th {\n",
       "        text-align: right;\n",
       "    }\n",
       "</style>\n",
       "<table border=\"1\" class=\"dataframe\">\n",
       "  <thead>\n",
       "    <tr style=\"text-align: right;\">\n",
       "      <th></th>\n",
       "      <th>no_show</th>\n",
       "      <th>branch</th>\n",
       "      <th>booking_month</th>\n",
       "      <th>arrival_month</th>\n",
       "      <th>arrival_day</th>\n",
       "      <th>checkout_month</th>\n",
       "      <th>checkout_day</th>\n",
       "      <th>country</th>\n",
       "      <th>first_time</th>\n",
       "      <th>room</th>\n",
       "      <th>price</th>\n",
       "      <th>platform</th>\n",
       "      <th>num_adults</th>\n",
       "      <th>num_children</th>\n",
       "    </tr>\n",
       "  </thead>\n",
       "  <tbody>\n",
       "    <tr>\n",
       "      <th>0</th>\n",
       "      <td>0.0</td>\n",
       "      <td>Changi</td>\n",
       "      <td>November</td>\n",
       "      <td>June</td>\n",
       "      <td>25.0</td>\n",
       "      <td>June</td>\n",
       "      <td>27.0</td>\n",
       "      <td>Singapore</td>\n",
       "      <td>Yes</td>\n",
       "      <td>Single</td>\n",
       "      <td>SGD$ 492.98</td>\n",
       "      <td>Website</td>\n",
       "      <td>1</td>\n",
       "      <td>0.0</td>\n",
       "    </tr>\n",
       "    <tr>\n",
       "      <th>1</th>\n",
       "      <td>0.0</td>\n",
       "      <td>Orchard</td>\n",
       "      <td>August</td>\n",
       "      <td>November</td>\n",
       "      <td>28.0</td>\n",
       "      <td>November</td>\n",
       "      <td>29.0</td>\n",
       "      <td>Indonesia</td>\n",
       "      <td>Yes</td>\n",
       "      <td>King</td>\n",
       "      <td>SGD$ 1351.22</td>\n",
       "      <td>Website</td>\n",
       "      <td>2</td>\n",
       "      <td>0.0</td>\n",
       "    </tr>\n",
       "    <tr>\n",
       "      <th>3</th>\n",
       "      <td>1.0</td>\n",
       "      <td>Orchard</td>\n",
       "      <td>September</td>\n",
       "      <td>October</td>\n",
       "      <td>1.0</td>\n",
       "      <td>October</td>\n",
       "      <td>3.0</td>\n",
       "      <td>China</td>\n",
       "      <td>Yes</td>\n",
       "      <td>Single</td>\n",
       "      <td>SGD$ 666.04</td>\n",
       "      <td>Website</td>\n",
       "      <td>1</td>\n",
       "      <td>0.0</td>\n",
       "    </tr>\n",
       "    <tr>\n",
       "      <th>4</th>\n",
       "      <td>0.0</td>\n",
       "      <td>Orchard</td>\n",
       "      <td>March</td>\n",
       "      <td>June</td>\n",
       "      <td>20.0</td>\n",
       "      <td>June</td>\n",
       "      <td>24.0</td>\n",
       "      <td>Australia</td>\n",
       "      <td>Yes</td>\n",
       "      <td>Queen</td>\n",
       "      <td>USD$ 665.37</td>\n",
       "      <td>Website</td>\n",
       "      <td>1</td>\n",
       "      <td>0.0</td>\n",
       "    </tr>\n",
       "    <tr>\n",
       "      <th>6</th>\n",
       "      <td>0.0</td>\n",
       "      <td>Orchard</td>\n",
       "      <td>November</td>\n",
       "      <td>October</td>\n",
       "      <td>15.0</td>\n",
       "      <td>October</td>\n",
       "      <td>16.0</td>\n",
       "      <td>Australia</td>\n",
       "      <td>Yes</td>\n",
       "      <td>King</td>\n",
       "      <td>SGD$ 1375.44</td>\n",
       "      <td>Website</td>\n",
       "      <td>1</td>\n",
       "      <td>1.0</td>\n",
       "    </tr>\n",
       "    <tr>\n",
       "      <th>...</th>\n",
       "      <td>...</td>\n",
       "      <td>...</td>\n",
       "      <td>...</td>\n",
       "      <td>...</td>\n",
       "      <td>...</td>\n",
       "      <td>...</td>\n",
       "      <td>...</td>\n",
       "      <td>...</td>\n",
       "      <td>...</td>\n",
       "      <td>...</td>\n",
       "      <td>...</td>\n",
       "      <td>...</td>\n",
       "      <td>...</td>\n",
       "      <td>...</td>\n",
       "    </tr>\n",
       "    <tr>\n",
       "      <th>119384</th>\n",
       "      <td>0.0</td>\n",
       "      <td>Changi</td>\n",
       "      <td>April</td>\n",
       "      <td>June</td>\n",
       "      <td>11.0</td>\n",
       "      <td>June</td>\n",
       "      <td>12.0</td>\n",
       "      <td>China</td>\n",
       "      <td>Yes</td>\n",
       "      <td>King</td>\n",
       "      <td>USD$ 605.91</td>\n",
       "      <td>Agent</td>\n",
       "      <td>1</td>\n",
       "      <td>0.0</td>\n",
       "    </tr>\n",
       "    <tr>\n",
       "      <th>119386</th>\n",
       "      <td>0.0</td>\n",
       "      <td>Changi</td>\n",
       "      <td>September</td>\n",
       "      <td>April</td>\n",
       "      <td>3.0</td>\n",
       "      <td>April</td>\n",
       "      <td>5.0</td>\n",
       "      <td>China</td>\n",
       "      <td>Yes</td>\n",
       "      <td>King</td>\n",
       "      <td>USD$ 612.18</td>\n",
       "      <td>Website</td>\n",
       "      <td>1</td>\n",
       "      <td>1.0</td>\n",
       "    </tr>\n",
       "    <tr>\n",
       "      <th>119387</th>\n",
       "      <td>0.0</td>\n",
       "      <td>Orchard</td>\n",
       "      <td>March</td>\n",
       "      <td>December</td>\n",
       "      <td>30.0</td>\n",
       "      <td>January</td>\n",
       "      <td>3.0</td>\n",
       "      <td>China</td>\n",
       "      <td>Yes</td>\n",
       "      <td>King</td>\n",
       "      <td>USD$ 1041.29</td>\n",
       "      <td>Email</td>\n",
       "      <td>2</td>\n",
       "      <td>0.0</td>\n",
       "    </tr>\n",
       "    <tr>\n",
       "      <th>119388</th>\n",
       "      <td>1.0</td>\n",
       "      <td>Changi</td>\n",
       "      <td>September</td>\n",
       "      <td>March</td>\n",
       "      <td>31.0</td>\n",
       "      <td>April</td>\n",
       "      <td>1.0</td>\n",
       "      <td>Indonesia</td>\n",
       "      <td>Yes</td>\n",
       "      <td>King</td>\n",
       "      <td>USD$ 641.47</td>\n",
       "      <td>Email</td>\n",
       "      <td>1</td>\n",
       "      <td>2.0</td>\n",
       "    </tr>\n",
       "    <tr>\n",
       "      <th>119390</th>\n",
       "      <td>0.0</td>\n",
       "      <td>Changi</td>\n",
       "      <td>March</td>\n",
       "      <td>July</td>\n",
       "      <td>18.0</td>\n",
       "      <td>July</td>\n",
       "      <td>26.0</td>\n",
       "      <td>India</td>\n",
       "      <td>Yes</td>\n",
       "      <td>King</td>\n",
       "      <td>SGD$ 901.95</td>\n",
       "      <td>Website</td>\n",
       "      <td>1</td>\n",
       "      <td>2.0</td>\n",
       "    </tr>\n",
       "  </tbody>\n",
       "</table>\n",
       "<p>72897 rows × 14 columns</p>\n",
       "</div>"
      ],
      "text/plain": [
       "        no_show   branch booking_month arrival_month  arrival_day  \\\n",
       "0           0.0   Changi      November          June         25.0   \n",
       "1           0.0  Orchard        August      November         28.0   \n",
       "3           1.0  Orchard     September       October          1.0   \n",
       "4           0.0  Orchard         March          June         20.0   \n",
       "6           0.0  Orchard      November       October         15.0   \n",
       "...         ...      ...           ...           ...          ...   \n",
       "119384      0.0   Changi         April          June         11.0   \n",
       "119386      0.0   Changi     September         April          3.0   \n",
       "119387      0.0  Orchard         March      December         30.0   \n",
       "119388      1.0   Changi     September         March         31.0   \n",
       "119390      0.0   Changi         March          July         18.0   \n",
       "\n",
       "       checkout_month  checkout_day    country first_time    room  \\\n",
       "0                June          27.0  Singapore        Yes  Single   \n",
       "1            November          29.0  Indonesia        Yes    King   \n",
       "3             October           3.0      China        Yes  Single   \n",
       "4                June          24.0  Australia        Yes   Queen   \n",
       "6             October          16.0  Australia        Yes    King   \n",
       "...               ...           ...        ...        ...     ...   \n",
       "119384           June          12.0      China        Yes    King   \n",
       "119386          April           5.0      China        Yes    King   \n",
       "119387        January           3.0      China        Yes    King   \n",
       "119388          April           1.0  Indonesia        Yes    King   \n",
       "119390           July          26.0      India        Yes    King   \n",
       "\n",
       "               price platform num_adults  num_children  \n",
       "0        SGD$ 492.98  Website          1           0.0  \n",
       "1       SGD$ 1351.22  Website          2           0.0  \n",
       "3        SGD$ 666.04  Website          1           0.0  \n",
       "4        USD$ 665.37  Website          1           0.0  \n",
       "6       SGD$ 1375.44  Website          1           1.0  \n",
       "...              ...      ...        ...           ...  \n",
       "119384   USD$ 605.91    Agent          1           0.0  \n",
       "119386   USD$ 612.18  Website          1           1.0  \n",
       "119387  USD$ 1041.29    Email          2           0.0  \n",
       "119388   USD$ 641.47    Email          1           2.0  \n",
       "119390   SGD$ 901.95  Website          1           2.0  \n",
       "\n",
       "[72897 rows x 14 columns]"
      ]
     },
     "execution_count": 143,
     "metadata": {},
     "output_type": "execute_result"
    }
   ],
   "source": [
    "df[(df['price'].isna() == False) & (df['room'].isna() == False)]"
   ]
  },
  {
   "cell_type": "markdown",
   "metadata": {},
   "source": [
    "- Branch, room type, platform (websites might offer discounts compared to agent), number of adults and children, duration between booking month and arrival month, arrival month (prices might be higher during holiday seasons) are factors that can affect the price. \n",
    "- Price, branch, number of adults and children were factors to consider in the imputation of room type.\n",
    "- Note that prices were in different currencies. It was necessary to convert price to a standard currency (eg. SGD) before carrying out any imputation. The conversion was based on the following exchange rate: 1 USD = 1.35 SGD. "
   ]
  },
  {
   "cell_type": "code",
   "execution_count": 144,
   "metadata": {},
   "outputs": [
    {
     "data": {
      "text/html": [
       "<div>\n",
       "<style scoped>\n",
       "    .dataframe tbody tr th:only-of-type {\n",
       "        vertical-align: middle;\n",
       "    }\n",
       "\n",
       "    .dataframe tbody tr th {\n",
       "        vertical-align: top;\n",
       "    }\n",
       "\n",
       "    .dataframe thead th {\n",
       "        text-align: right;\n",
       "    }\n",
       "</style>\n",
       "<table border=\"1\" class=\"dataframe\">\n",
       "  <thead>\n",
       "    <tr style=\"text-align: right;\">\n",
       "      <th></th>\n",
       "      <th>no_show</th>\n",
       "      <th>branch</th>\n",
       "      <th>booking_month</th>\n",
       "      <th>arrival_month</th>\n",
       "      <th>arrival_day</th>\n",
       "      <th>checkout_month</th>\n",
       "      <th>checkout_day</th>\n",
       "      <th>country</th>\n",
       "      <th>first_time</th>\n",
       "      <th>room</th>\n",
       "      <th>price</th>\n",
       "      <th>platform</th>\n",
       "      <th>num_adults</th>\n",
       "      <th>num_children</th>\n",
       "    </tr>\n",
       "  </thead>\n",
       "  <tbody>\n",
       "    <tr>\n",
       "      <th>0</th>\n",
       "      <td>0.0</td>\n",
       "      <td>Changi</td>\n",
       "      <td>November</td>\n",
       "      <td>June</td>\n",
       "      <td>25.0</td>\n",
       "      <td>June</td>\n",
       "      <td>27.0</td>\n",
       "      <td>Singapore</td>\n",
       "      <td>Yes</td>\n",
       "      <td>Single</td>\n",
       "      <td>492.9800</td>\n",
       "      <td>Website</td>\n",
       "      <td>1</td>\n",
       "      <td>0.0</td>\n",
       "    </tr>\n",
       "    <tr>\n",
       "      <th>1</th>\n",
       "      <td>0.0</td>\n",
       "      <td>Orchard</td>\n",
       "      <td>August</td>\n",
       "      <td>November</td>\n",
       "      <td>28.0</td>\n",
       "      <td>November</td>\n",
       "      <td>29.0</td>\n",
       "      <td>Indonesia</td>\n",
       "      <td>Yes</td>\n",
       "      <td>King</td>\n",
       "      <td>1351.2200</td>\n",
       "      <td>Website</td>\n",
       "      <td>2</td>\n",
       "      <td>0.0</td>\n",
       "    </tr>\n",
       "    <tr>\n",
       "      <th>2</th>\n",
       "      <td>0.0</td>\n",
       "      <td>Changi</td>\n",
       "      <td>March</td>\n",
       "      <td>February</td>\n",
       "      <td>7.0</td>\n",
       "      <td>February</td>\n",
       "      <td>11.0</td>\n",
       "      <td>India</td>\n",
       "      <td>Yes</td>\n",
       "      <td>Single</td>\n",
       "      <td>NaN</td>\n",
       "      <td>Agent</td>\n",
       "      <td>1</td>\n",
       "      <td>0.0</td>\n",
       "    </tr>\n",
       "    <tr>\n",
       "      <th>3</th>\n",
       "      <td>1.0</td>\n",
       "      <td>Orchard</td>\n",
       "      <td>September</td>\n",
       "      <td>October</td>\n",
       "      <td>1.0</td>\n",
       "      <td>October</td>\n",
       "      <td>3.0</td>\n",
       "      <td>China</td>\n",
       "      <td>Yes</td>\n",
       "      <td>Single</td>\n",
       "      <td>666.0400</td>\n",
       "      <td>Website</td>\n",
       "      <td>1</td>\n",
       "      <td>0.0</td>\n",
       "    </tr>\n",
       "    <tr>\n",
       "      <th>4</th>\n",
       "      <td>0.0</td>\n",
       "      <td>Orchard</td>\n",
       "      <td>March</td>\n",
       "      <td>June</td>\n",
       "      <td>20.0</td>\n",
       "      <td>June</td>\n",
       "      <td>24.0</td>\n",
       "      <td>Australia</td>\n",
       "      <td>Yes</td>\n",
       "      <td>Queen</td>\n",
       "      <td>898.2495</td>\n",
       "      <td>Website</td>\n",
       "      <td>1</td>\n",
       "      <td>0.0</td>\n",
       "    </tr>\n",
       "    <tr>\n",
       "      <th>...</th>\n",
       "      <td>...</td>\n",
       "      <td>...</td>\n",
       "      <td>...</td>\n",
       "      <td>...</td>\n",
       "      <td>...</td>\n",
       "      <td>...</td>\n",
       "      <td>...</td>\n",
       "      <td>...</td>\n",
       "      <td>...</td>\n",
       "      <td>...</td>\n",
       "      <td>...</td>\n",
       "      <td>...</td>\n",
       "      <td>...</td>\n",
       "      <td>...</td>\n",
       "    </tr>\n",
       "    <tr>\n",
       "      <th>119386</th>\n",
       "      <td>0.0</td>\n",
       "      <td>Changi</td>\n",
       "      <td>September</td>\n",
       "      <td>April</td>\n",
       "      <td>3.0</td>\n",
       "      <td>April</td>\n",
       "      <td>5.0</td>\n",
       "      <td>China</td>\n",
       "      <td>Yes</td>\n",
       "      <td>King</td>\n",
       "      <td>826.4430</td>\n",
       "      <td>Website</td>\n",
       "      <td>1</td>\n",
       "      <td>1.0</td>\n",
       "    </tr>\n",
       "    <tr>\n",
       "      <th>119387</th>\n",
       "      <td>0.0</td>\n",
       "      <td>Orchard</td>\n",
       "      <td>March</td>\n",
       "      <td>December</td>\n",
       "      <td>30.0</td>\n",
       "      <td>January</td>\n",
       "      <td>3.0</td>\n",
       "      <td>China</td>\n",
       "      <td>Yes</td>\n",
       "      <td>King</td>\n",
       "      <td>1405.7415</td>\n",
       "      <td>Email</td>\n",
       "      <td>2</td>\n",
       "      <td>0.0</td>\n",
       "    </tr>\n",
       "    <tr>\n",
       "      <th>119388</th>\n",
       "      <td>1.0</td>\n",
       "      <td>Changi</td>\n",
       "      <td>September</td>\n",
       "      <td>March</td>\n",
       "      <td>31.0</td>\n",
       "      <td>April</td>\n",
       "      <td>1.0</td>\n",
       "      <td>Indonesia</td>\n",
       "      <td>Yes</td>\n",
       "      <td>King</td>\n",
       "      <td>865.9845</td>\n",
       "      <td>Email</td>\n",
       "      <td>1</td>\n",
       "      <td>2.0</td>\n",
       "    </tr>\n",
       "    <tr>\n",
       "      <th>119389</th>\n",
       "      <td>0.0</td>\n",
       "      <td>Changi</td>\n",
       "      <td>February</td>\n",
       "      <td>February</td>\n",
       "      <td>25.0</td>\n",
       "      <td>February</td>\n",
       "      <td>27.0</td>\n",
       "      <td>China</td>\n",
       "      <td>Yes</td>\n",
       "      <td>None</td>\n",
       "      <td>886.3500</td>\n",
       "      <td>Website</td>\n",
       "      <td>2</td>\n",
       "      <td>0.0</td>\n",
       "    </tr>\n",
       "    <tr>\n",
       "      <th>119390</th>\n",
       "      <td>0.0</td>\n",
       "      <td>Changi</td>\n",
       "      <td>March</td>\n",
       "      <td>July</td>\n",
       "      <td>18.0</td>\n",
       "      <td>July</td>\n",
       "      <td>26.0</td>\n",
       "      <td>India</td>\n",
       "      <td>Yes</td>\n",
       "      <td>King</td>\n",
       "      <td>901.9500</td>\n",
       "      <td>Website</td>\n",
       "      <td>1</td>\n",
       "      <td>2.0</td>\n",
       "    </tr>\n",
       "  </tbody>\n",
       "</table>\n",
       "<p>118576 rows × 14 columns</p>\n",
       "</div>"
      ],
      "text/plain": [
       "        no_show   branch booking_month arrival_month  arrival_day  \\\n",
       "0           0.0   Changi      November          June         25.0   \n",
       "1           0.0  Orchard        August      November         28.0   \n",
       "2           0.0   Changi         March      February          7.0   \n",
       "3           1.0  Orchard     September       October          1.0   \n",
       "4           0.0  Orchard         March          June         20.0   \n",
       "...         ...      ...           ...           ...          ...   \n",
       "119386      0.0   Changi     September         April          3.0   \n",
       "119387      0.0  Orchard         March      December         30.0   \n",
       "119388      1.0   Changi     September         March         31.0   \n",
       "119389      0.0   Changi      February      February         25.0   \n",
       "119390      0.0   Changi         March          July         18.0   \n",
       "\n",
       "       checkout_month  checkout_day    country first_time    room      price  \\\n",
       "0                June          27.0  Singapore        Yes  Single   492.9800   \n",
       "1            November          29.0  Indonesia        Yes    King  1351.2200   \n",
       "2            February          11.0      India        Yes  Single        NaN   \n",
       "3             October           3.0      China        Yes  Single   666.0400   \n",
       "4                June          24.0  Australia        Yes   Queen   898.2495   \n",
       "...               ...           ...        ...        ...     ...        ...   \n",
       "119386          April           5.0      China        Yes    King   826.4430   \n",
       "119387        January           3.0      China        Yes    King  1405.7415   \n",
       "119388          April           1.0  Indonesia        Yes    King   865.9845   \n",
       "119389       February          27.0      China        Yes    None   886.3500   \n",
       "119390           July          26.0      India        Yes    King   901.9500   \n",
       "\n",
       "       platform num_adults  num_children  \n",
       "0       Website          1           0.0  \n",
       "1       Website          2           0.0  \n",
       "2         Agent          1           0.0  \n",
       "3       Website          1           0.0  \n",
       "4       Website          1           0.0  \n",
       "...         ...        ...           ...  \n",
       "119386  Website          1           1.0  \n",
       "119387    Email          2           0.0  \n",
       "119388    Email          1           2.0  \n",
       "119389  Website          2           0.0  \n",
       "119390  Website          1           2.0  \n",
       "\n",
       "[118576 rows x 14 columns]"
      ]
     },
     "execution_count": 144,
     "metadata": {},
     "output_type": "execute_result"
    }
   ],
   "source": [
    "df['currency'] = df['price'].astype(str).str[0:3]\n",
    "df['price'] = df['price'].astype(str).str[4:]\n",
    "df['price'] = pd.to_numeric(df['price'], errors = 'coerce')\n",
    "\n",
    "# Currencies were only in SGD and USD\n",
    "df['currency'].value_counts()\n",
    "\n",
    "# Conversion of USD to SGD\n",
    "df['price'] = df.apply(lambda x: x['price'] * 1.35 if x['currency'] == 'USD' else x['price'], axis = 1)\n",
    "df.drop(['currency'], axis = 1)"
   ]
  },
  {
   "cell_type": "code",
   "execution_count": 145,
   "metadata": {},
   "outputs": [
    {
     "data": {
      "text/html": [
       "<div>\n",
       "<style scoped>\n",
       "    .dataframe tbody tr th:only-of-type {\n",
       "        vertical-align: middle;\n",
       "    }\n",
       "\n",
       "    .dataframe tbody tr th {\n",
       "        vertical-align: top;\n",
       "    }\n",
       "\n",
       "    .dataframe thead th {\n",
       "        text-align: right;\n",
       "    }\n",
       "</style>\n",
       "<table border=\"1\" class=\"dataframe\">\n",
       "  <thead>\n",
       "    <tr style=\"text-align: right;\">\n",
       "      <th></th>\n",
       "      <th>no_show</th>\n",
       "      <th>branch</th>\n",
       "      <th>booking_month</th>\n",
       "      <th>arrival_month</th>\n",
       "      <th>arrival_day</th>\n",
       "      <th>checkout_month</th>\n",
       "      <th>checkout_day</th>\n",
       "      <th>country</th>\n",
       "      <th>first_time</th>\n",
       "      <th>room</th>\n",
       "      <th>price</th>\n",
       "      <th>platform</th>\n",
       "      <th>num_adults</th>\n",
       "      <th>num_children</th>\n",
       "      <th>currency</th>\n",
       "    </tr>\n",
       "  </thead>\n",
       "  <tbody>\n",
       "    <tr>\n",
       "      <th>2</th>\n",
       "      <td>0.0</td>\n",
       "      <td>Changi</td>\n",
       "      <td>March</td>\n",
       "      <td>February</td>\n",
       "      <td>7.0</td>\n",
       "      <td>February</td>\n",
       "      <td>11.0</td>\n",
       "      <td>India</td>\n",
       "      <td>Yes</td>\n",
       "      <td>Single</td>\n",
       "      <td>NaN</td>\n",
       "      <td>Agent</td>\n",
       "      <td>1</td>\n",
       "      <td>0.0</td>\n",
       "      <td>Non</td>\n",
       "    </tr>\n",
       "    <tr>\n",
       "      <th>7</th>\n",
       "      <td>0.0</td>\n",
       "      <td>Changi</td>\n",
       "      <td>July</td>\n",
       "      <td>November</td>\n",
       "      <td>18.0</td>\n",
       "      <td>November</td>\n",
       "      <td>19.0</td>\n",
       "      <td>India</td>\n",
       "      <td>Yes</td>\n",
       "      <td>King</td>\n",
       "      <td>NaN</td>\n",
       "      <td>Email</td>\n",
       "      <td>2</td>\n",
       "      <td>1.0</td>\n",
       "      <td>Non</td>\n",
       "    </tr>\n",
       "    <tr>\n",
       "      <th>15</th>\n",
       "      <td>0.0</td>\n",
       "      <td>Orchard</td>\n",
       "      <td>December</td>\n",
       "      <td>August</td>\n",
       "      <td>13.0</td>\n",
       "      <td>August</td>\n",
       "      <td>15.0</td>\n",
       "      <td>India</td>\n",
       "      <td>Yes</td>\n",
       "      <td>Queen</td>\n",
       "      <td>NaN</td>\n",
       "      <td>Phone</td>\n",
       "      <td>1</td>\n",
       "      <td>1.0</td>\n",
       "      <td>Non</td>\n",
       "    </tr>\n",
       "    <tr>\n",
       "      <th>16</th>\n",
       "      <td>0.0</td>\n",
       "      <td>Changi</td>\n",
       "      <td>December</td>\n",
       "      <td>February</td>\n",
       "      <td>22.0</td>\n",
       "      <td>February</td>\n",
       "      <td>23.0</td>\n",
       "      <td>Indonesia</td>\n",
       "      <td>Yes</td>\n",
       "      <td>King</td>\n",
       "      <td>NaN</td>\n",
       "      <td>Website</td>\n",
       "      <td>2</td>\n",
       "      <td>2.0</td>\n",
       "      <td>Non</td>\n",
       "    </tr>\n",
       "    <tr>\n",
       "      <th>18</th>\n",
       "      <td>0.0</td>\n",
       "      <td>Changi</td>\n",
       "      <td>June</td>\n",
       "      <td>July</td>\n",
       "      <td>30.0</td>\n",
       "      <td>July</td>\n",
       "      <td>31.0</td>\n",
       "      <td>Japan</td>\n",
       "      <td>Yes</td>\n",
       "      <td>King</td>\n",
       "      <td>NaN</td>\n",
       "      <td>Agent</td>\n",
       "      <td>two</td>\n",
       "      <td>2.0</td>\n",
       "      <td>Non</td>\n",
       "    </tr>\n",
       "    <tr>\n",
       "      <th>...</th>\n",
       "      <td>...</td>\n",
       "      <td>...</td>\n",
       "      <td>...</td>\n",
       "      <td>...</td>\n",
       "      <td>...</td>\n",
       "      <td>...</td>\n",
       "      <td>...</td>\n",
       "      <td>...</td>\n",
       "      <td>...</td>\n",
       "      <td>...</td>\n",
       "      <td>...</td>\n",
       "      <td>...</td>\n",
       "      <td>...</td>\n",
       "      <td>...</td>\n",
       "      <td>...</td>\n",
       "    </tr>\n",
       "    <tr>\n",
       "      <th>119362</th>\n",
       "      <td>1.0</td>\n",
       "      <td>Changi</td>\n",
       "      <td>June</td>\n",
       "      <td>January</td>\n",
       "      <td>16.0</td>\n",
       "      <td>January</td>\n",
       "      <td>18.0</td>\n",
       "      <td>Japan</td>\n",
       "      <td>Yes</td>\n",
       "      <td>King</td>\n",
       "      <td>NaN</td>\n",
       "      <td>Website</td>\n",
       "      <td>2</td>\n",
       "      <td>0.0</td>\n",
       "      <td>Non</td>\n",
       "    </tr>\n",
       "    <tr>\n",
       "      <th>119364</th>\n",
       "      <td>0.0</td>\n",
       "      <td>Changi</td>\n",
       "      <td>April</td>\n",
       "      <td>September</td>\n",
       "      <td>4.0</td>\n",
       "      <td>September</td>\n",
       "      <td>5.0</td>\n",
       "      <td>Malaysia</td>\n",
       "      <td>Yes</td>\n",
       "      <td>King</td>\n",
       "      <td>NaN</td>\n",
       "      <td>Agent</td>\n",
       "      <td>1</td>\n",
       "      <td>2.0</td>\n",
       "      <td>Non</td>\n",
       "    </tr>\n",
       "    <tr>\n",
       "      <th>119367</th>\n",
       "      <td>0.0</td>\n",
       "      <td>Changi</td>\n",
       "      <td>May</td>\n",
       "      <td>September</td>\n",
       "      <td>3.0</td>\n",
       "      <td>September</td>\n",
       "      <td>4.0</td>\n",
       "      <td>Japan</td>\n",
       "      <td>Yes</td>\n",
       "      <td>King</td>\n",
       "      <td>NaN</td>\n",
       "      <td>Website</td>\n",
       "      <td>1</td>\n",
       "      <td>2.0</td>\n",
       "      <td>Non</td>\n",
       "    </tr>\n",
       "    <tr>\n",
       "      <th>119374</th>\n",
       "      <td>0.0</td>\n",
       "      <td>Changi</td>\n",
       "      <td>January</td>\n",
       "      <td>February</td>\n",
       "      <td>15.0</td>\n",
       "      <td>February</td>\n",
       "      <td>-16.0</td>\n",
       "      <td>India</td>\n",
       "      <td>Yes</td>\n",
       "      <td>Single</td>\n",
       "      <td>NaN</td>\n",
       "      <td>Website</td>\n",
       "      <td>1</td>\n",
       "      <td>1.0</td>\n",
       "      <td>Non</td>\n",
       "    </tr>\n",
       "    <tr>\n",
       "      <th>119382</th>\n",
       "      <td>0.0</td>\n",
       "      <td>Orchard</td>\n",
       "      <td>April</td>\n",
       "      <td>February</td>\n",
       "      <td>7.0</td>\n",
       "      <td>February</td>\n",
       "      <td>9.0</td>\n",
       "      <td>China</td>\n",
       "      <td>No</td>\n",
       "      <td>King</td>\n",
       "      <td>NaN</td>\n",
       "      <td>Website</td>\n",
       "      <td>1</td>\n",
       "      <td>2.0</td>\n",
       "      <td>Non</td>\n",
       "    </tr>\n",
       "  </tbody>\n",
       "</table>\n",
       "<p>24067 rows × 15 columns</p>\n",
       "</div>"
      ],
      "text/plain": [
       "        no_show   branch booking_month arrival_month  arrival_day  \\\n",
       "2           0.0   Changi         March      February          7.0   \n",
       "7           0.0   Changi          July      November         18.0   \n",
       "15          0.0  Orchard      December        August         13.0   \n",
       "16          0.0   Changi      December      February         22.0   \n",
       "18          0.0   Changi          June          July         30.0   \n",
       "...         ...      ...           ...           ...          ...   \n",
       "119362      1.0   Changi          June       January         16.0   \n",
       "119364      0.0   Changi         April     September          4.0   \n",
       "119367      0.0   Changi           May     September          3.0   \n",
       "119374      0.0   Changi       January      February         15.0   \n",
       "119382      0.0  Orchard         April      February          7.0   \n",
       "\n",
       "       checkout_month  checkout_day    country first_time    room  price  \\\n",
       "2            February          11.0      India        Yes  Single    NaN   \n",
       "7            November          19.0      India        Yes    King    NaN   \n",
       "15             August          15.0      India        Yes   Queen    NaN   \n",
       "16           February          23.0  Indonesia        Yes    King    NaN   \n",
       "18               July          31.0      Japan        Yes    King    NaN   \n",
       "...               ...           ...        ...        ...     ...    ...   \n",
       "119362        January          18.0      Japan        Yes    King    NaN   \n",
       "119364      September           5.0   Malaysia        Yes    King    NaN   \n",
       "119367      September           4.0      Japan        Yes    King    NaN   \n",
       "119374       February         -16.0      India        Yes  Single    NaN   \n",
       "119382       February           9.0      China         No    King    NaN   \n",
       "\n",
       "       platform num_adults  num_children currency  \n",
       "2         Agent          1           0.0      Non  \n",
       "7         Email          2           1.0      Non  \n",
       "15        Phone          1           1.0      Non  \n",
       "16      Website          2           2.0      Non  \n",
       "18        Agent        two           2.0      Non  \n",
       "...         ...        ...           ...      ...  \n",
       "119362  Website          2           0.0      Non  \n",
       "119364    Agent          1           2.0      Non  \n",
       "119367  Website          1           2.0      Non  \n",
       "119374  Website          1           1.0      Non  \n",
       "119382  Website          1           2.0      Non  \n",
       "\n",
       "[24067 rows x 15 columns]"
      ]
     },
     "execution_count": 145,
     "metadata": {},
     "output_type": "execute_result"
    }
   ],
   "source": [
    "# Rows where price is null and room type is not null \n",
    "df[(df['price'].isna() == True) & (df['room'].isna() == False)]"
   ]
  },
  {
   "cell_type": "markdown",
   "metadata": {},
   "source": [
    "#### **Dealing with missing Room Records**"
   ]
  },
  {
   "cell_type": "code",
   "execution_count": 146,
   "metadata": {},
   "outputs": [
    {
     "data": {
      "text/plain": [
       "room\n",
       "King               69743\n",
       "Single             15647\n",
       "Queen              10813\n",
       "President Suite      761\n",
       "Name: count, dtype: int64"
      ]
     },
     "execution_count": 146,
     "metadata": {},
     "output_type": "execute_result"
    }
   ],
   "source": [
    "df['room'].value_counts()"
   ]
  },
  {
   "cell_type": "code",
   "execution_count": 147,
   "metadata": {},
   "outputs": [
    {
     "data": {
      "image/png": "[encoded data removed]",
      "text/plain": [
       "<Figure size 1400x700 with 2 Axes>"
      ]
     },
     "metadata": {},
     "output_type": "display_data"
    }
   ],
   "source": [
    "df_changi = df[df['branch'] == 'Changi']\n",
    "df_orchard = df[df['branch'] == 'Orchard']\n",
    "\n",
    "\n",
    "fig, axes = plt.subplots(1, 2, figsize=(14, 7))\n",
    "\n",
    "sns.boxplot(ax=axes[0], x='room', y='price', data=df_changi)\n",
    "axes[0].set_title('Changi')\n",
    "\n",
    "sns.boxplot(ax=axes[1], x='room', y='price', data=df_orchard)\n",
    "axes[1].set_title('Orchard')\n",
    "\n",
    "plt.tight_layout()\n",
    "plt.show()"
   ]
  },
  {
   "cell_type": "markdown",
   "metadata": {},
   "source": [
    "Based on the boxplot, we inferred the room type based on the following logic: \n",
    "1. If branch is Changi: \n",
    "- If price <= 600, then Single.\n",
    "- If 600 < price <= 800. then Queen.\n",
    "- If 800 < price <= 1200, then King. \n",
    "- Else, President Suite. \n",
    "\n",
    "2. If branch is Orchard, \n",
    "- If price <= 900, then Single. \n",
    "- If 900 < price <= 1200, then Queen. \n",
    "- If 1200 < price < 1800, then King\n",
    "- Else, President Suite. "
   ]
  },
  {
   "cell_type": "code",
   "execution_count": 148,
   "metadata": {},
   "outputs": [
    {
     "data": {
      "text/plain": [
       "no_show               0\n",
       "branch                0\n",
       "booking_month         0\n",
       "arrival_month         0\n",
       "arrival_day           0\n",
       "checkout_month        0\n",
       "checkout_day          0\n",
       "country               0\n",
       "first_time            0\n",
       "room                  0\n",
       "price             24067\n",
       "platform              0\n",
       "num_adults            0\n",
       "num_children          0\n",
       "currency              0\n",
       "dtype: int64"
      ]
     },
     "execution_count": 148,
     "metadata": {},
     "output_type": "execute_result"
    }
   ],
   "source": [
    "conditions_changi = [\n",
    "    (df['branch'] == 'Changi') & (df['price'] <= 600) & df['room'].isna(),\n",
    "    (df['branch'] == 'Changi') & (df['price'] > 600) & (df['price'] <= 800) & df['room'].isna(),\n",
    "    (df['branch'] == 'Changi') & (df['price'] > 800) & (df['price'] <= 1200) & df['room'].isna(),\n",
    "    (df['branch'] == 'Changi') & (df['price'] > 1200) & df['room'].isna()\n",
    "]\n",
    "\n",
    "choices_changi = ['Single', 'Queen', 'King', 'President Suite']\n",
    "\n",
    "conditions_orchard = [\n",
    "    (df['branch'] == 'Orchard') & (df['price'] <= 900) & df['room'].isna(),\n",
    "    (df['branch'] == 'Orchard') & (df['price'] > 900) & (df['price'] <= 1200) & df['room'].isna(),\n",
    "    (df['branch'] == 'Orchard') & (df['price'] > 1200) & (df['price'] < 1800) & df['room'].isna(),\n",
    "    (df['branch'] == 'Orchard') & (df['price'] >= 1800) & df['room'].isna()\n",
    "]\n",
    "\n",
    "choices_orchard = ['Single', 'Queen', 'King', 'President Suite']\n",
    "\n",
    "conditions = conditions_changi + conditions_orchard\n",
    "choices = choices_changi + choices_orchard\n",
    "\n",
    "df['room'] = np.select(conditions, choices, default=df['room'])\n",
    "df.isna().sum()"
   ]
  },
  {
   "cell_type": "markdown",
   "metadata": {},
   "source": [
    "#### **Dealing with Missing Price Records**\n",
    "- Branch, room type, platform (websites might offer discounts compared to agent), number of adults and children, duration between booking month and arrival month, arrival month (prices might be higher during holiday seasons) are factors that can affect the price."
   ]
  },
  {
   "cell_type": "code",
   "execution_count": 149,
   "metadata": {},
   "outputs": [
    {
     "data": {
      "text/plain": [
       "arrival_month\n",
       "August       13642\n",
       "July         12464\n",
       "May          11598\n",
       "April        10903\n",
       "October      10900\n",
       "             ...  \n",
       "MAY              1\n",
       "SeptEMber        1\n",
       "ApRiL            1\n",
       "OcTobeR          1\n",
       "FeBruaRy         1\n",
       "Name: count, Length: 88, dtype: int64"
      ]
     },
     "execution_count": 149,
     "metadata": {},
     "output_type": "execute_result"
    }
   ],
   "source": [
    "df['arrival_month'].value_counts()"
   ]
  },
  {
   "cell_type": "code",
   "execution_count": 150,
   "metadata": {},
   "outputs": [],
   "source": [
    "df['arrival_month'] = df['arrival_month'].str.lower()\n",
    "df['booking_month'] = df['booking_month'].str.lower()\n",
    "df['checkout_month'] = df['checkout_month'].str.lower()\n",
    "\n",
    "# Convert booking and arrival month to integers \n",
    "month_mapping = {\n",
    "    'january': 1,\n",
    "    'february': 2,\n",
    "    'march': 3,\n",
    "    'april': 4,\n",
    "    'may': 5,\n",
    "    'june': 6,\n",
    "    'july': 7,\n",
    "    'august': 8,\n",
    "    'september': 9,\n",
    "    'october': 10,\n",
    "    'november': 11,\n",
    "    'december': 12\n",
    "}\n",
    "\n",
    "df['booking_month'] = df['booking_month'].map(month_mapping)\n",
    "df['arrival_month'] = df['arrival_month'].map(month_mapping)\n",
    "df['checkout_month'] = df['checkout_month'].map(month_mapping)\n",
    "\n",
    "# Calculate duration between booking month and arrival month\n",
    "df['lag_month'] = df.apply(lambda row: row['arrival_month'] - row['booking_month'] if row['arrival_month'] >= row['booking_month'] else (row['arrival_month'] + 12 - row['booking_month']), axis=1)"
   ]
  },
  {
   "cell_type": "code",
   "execution_count": 151,
   "metadata": {},
   "outputs": [],
   "source": [
    "adult_mapping = {\n",
    "    'one': 1, \n",
    "    'two': 2, \n",
    "    '1':1, \n",
    "    '2':2\n",
    "}\n",
    "df['num_adults'] = df['num_adults'].map(adult_mapping)"
   ]
  },
  {
   "cell_type": "markdown",
   "metadata": {},
   "source": [
    "- We could use a regression model (eg. random forest regressor) to predict the missing prices based on branch, room type, platform, number of adults and children, arrival month and duration between booking month and arrival month."
   ]
  },
  {
   "cell_type": "code",
   "execution_count": 152,
   "metadata": {},
   "outputs": [],
   "source": [
    "df_train = df[df['price'].isna() == False][['branch', 'booking_month', 'lag_month', 'num_adults', 'num_children', 'platform', 'room', 'price']]\n",
    "df_test = df[df['price'].isna() == True]\n",
    "\n",
    "X = df_train.drop('price', axis = 1)\n",
    "y = df_train['price']\n",
    "\n",
    "X = pd.get_dummies(X, columns = ['branch', 'platform', 'room'])\n",
    "\n",
    "X_train, X_test, y_train, y_test = train_test_split(X, y, test_size = 0.2, random_state = 42)"
   ]
  },
  {
   "cell_type": "code",
   "execution_count": 153,
   "metadata": {},
   "outputs": [
    {
     "name": "stdout",
     "output_type": "stream",
     "text": [
      "Difference between predicted and actual price based on RMSE:  74.37134647078801\n"
     ]
    }
   ],
   "source": [
    "rf_regressor = RandomForestRegressor()\n",
    "rf_regressor.fit(X_train, y_train)\n",
    "predicted_price = rf_regressor.predict(X_test)\n",
    "difference = root_mean_squared_error(predicted_price, y_test)\n",
    "print('Difference between predicted and actual price based on RMSE: ', difference)"
   ]
  },
  {
   "cell_type": "markdown",
   "metadata": {},
   "source": [
    "- On average, the predictions differ from the actual price by SGD $74.37."
   ]
  },
  {
   "cell_type": "code",
   "execution_count": 154,
   "metadata": {},
   "outputs": [],
   "source": [
    "df_predict_encoded = pd.get_dummies(df_test, columns=['branch', 'platform', 'room'])\n",
    "\n",
    "df_predict_encoded = df_predict_encoded.reindex(columns=X_train.columns, fill_value=0)\n",
    "\n",
    "predicted_prices = rf_regressor.predict(df_predict_encoded)\n",
    "df.loc[df['price'].isna(), 'price'] = predicted_prices"
   ]
  },
  {
   "cell_type": "code",
   "execution_count": 155,
   "metadata": {},
   "outputs": [
    {
     "data": {
      "text/plain": [
       "no_show           0\n",
       "branch            0\n",
       "booking_month     0\n",
       "arrival_month     0\n",
       "arrival_day       0\n",
       "checkout_month    0\n",
       "checkout_day      0\n",
       "country           0\n",
       "first_time        0\n",
       "room              0\n",
       "price             0\n",
       "platform          0\n",
       "num_adults        0\n",
       "num_children      0\n",
       "currency          0\n",
       "lag_month         0\n",
       "dtype: int64"
      ]
     },
     "execution_count": 155,
     "metadata": {},
     "output_type": "execute_result"
    }
   ],
   "source": [
    "df.isna().sum()"
   ]
  },
  {
   "cell_type": "markdown",
   "metadata": {},
   "source": [
    "### **Exploratory Data Analysis**\n",
    "#### **Influence of Categorical Variables on no_show**"
   ]
  },
  {
   "cell_type": "code",
   "execution_count": 156,
   "metadata": {},
   "outputs": [
    {
     "data": {
      "text/plain": [
       "<Figure size 1000x800 with 0 Axes>"
      ]
     },
     "metadata": {},
     "output_type": "display_data"
    },
    {
     "data": {
      "image/png": "[encoded data removed]",
      "text/plain": [
       "<Figure size 1000x600 with 1 Axes>"
      ]
     },
     "metadata": {},
     "output_type": "display_data"
    }
   ],
   "source": [
    "plt.figure(figsize = (10,8))\n",
    "count_data = df.groupby(['no_show', 'branch']).size().unstack(fill_value=0)\n",
    "count_data.plot(kind='barh', stacked=True, figsize=(10, 6))\n",
    "plt.show()"
   ]
  },
  {
   "cell_type": "code",
   "execution_count": 157,
   "metadata": {},
   "outputs": [
    {
     "data": {
      "text/html": [
       "<div>\n",
       "<style scoped>\n",
       "    .dataframe tbody tr th:only-of-type {\n",
       "        vertical-align: middle;\n",
       "    }\n",
       "\n",
       "    .dataframe tbody tr th {\n",
       "        vertical-align: top;\n",
       "    }\n",
       "\n",
       "    .dataframe thead th {\n",
       "        text-align: right;\n",
       "    }\n",
       "</style>\n",
       "<table border=\"1\" class=\"dataframe\">\n",
       "  <thead>\n",
       "    <tr style=\"text-align: right;\">\n",
       "      <th>no_show</th>\n",
       "      <th>0.0</th>\n",
       "      <th>1.0</th>\n",
       "    </tr>\n",
       "    <tr>\n",
       "      <th>branch</th>\n",
       "      <th></th>\n",
       "      <th></th>\n",
       "    </tr>\n",
       "  </thead>\n",
       "  <tbody>\n",
       "    <tr>\n",
       "      <th>Changi</th>\n",
       "      <td>0.585041</td>\n",
       "      <td>0.414959</td>\n",
       "    </tr>\n",
       "    <tr>\n",
       "      <th>Orchard</th>\n",
       "      <td>0.722896</td>\n",
       "      <td>0.277104</td>\n",
       "    </tr>\n",
       "  </tbody>\n",
       "</table>\n",
       "</div>"
      ],
      "text/plain": [
       "no_show       0.0       1.0\n",
       "branch                     \n",
       "Changi   0.585041  0.414959\n",
       "Orchard  0.722896  0.277104"
      ]
     },
     "execution_count": 157,
     "metadata": {},
     "output_type": "execute_result"
    }
   ],
   "source": [
    "branch_and_noshow = df.groupby('branch')['no_show'].value_counts(normalize=True).unstack().fillna(0)\n",
    "branch_and_noshow"
   ]
  },
  {
   "cell_type": "markdown",
   "metadata": {},
   "source": [
    "- The number of no-show reservations was about half that of reservations who actually showed up.\n",
    "- As the branch at Changi had higher reservations overall, it also meant it had more no-show reservations. Changi also had a higher percentage of no-show reservations (41.5%) compared to Orchard."
   ]
  },
  {
   "cell_type": "code",
   "execution_count": 158,
   "metadata": {},
   "outputs": [
    {
     "data": {
      "text/html": [
       "<div>\n",
       "<style scoped>\n",
       "    .dataframe tbody tr th:only-of-type {\n",
       "        vertical-align: middle;\n",
       "    }\n",
       "\n",
       "    .dataframe tbody tr th {\n",
       "        vertical-align: top;\n",
       "    }\n",
       "\n",
       "    .dataframe thead th {\n",
       "        text-align: right;\n",
       "    }\n",
       "</style>\n",
       "<table border=\"1\" class=\"dataframe\">\n",
       "  <thead>\n",
       "    <tr style=\"text-align: right;\">\n",
       "      <th>no_show</th>\n",
       "      <th>0.0</th>\n",
       "      <th>1.0</th>\n",
       "    </tr>\n",
       "    <tr>\n",
       "      <th>country</th>\n",
       "      <th></th>\n",
       "      <th></th>\n",
       "    </tr>\n",
       "  </thead>\n",
       "  <tbody>\n",
       "    <tr>\n",
       "      <th>Australia</th>\n",
       "      <td>0.797636</td>\n",
       "      <td>0.202364</td>\n",
       "    </tr>\n",
       "    <tr>\n",
       "      <th>China</th>\n",
       "      <td>0.437166</td>\n",
       "      <td>0.562834</td>\n",
       "    </tr>\n",
       "    <tr>\n",
       "      <th>India</th>\n",
       "      <td>0.779423</td>\n",
       "      <td>0.220577</td>\n",
       "    </tr>\n",
       "    <tr>\n",
       "      <th>Indonesia</th>\n",
       "      <td>0.732281</td>\n",
       "      <td>0.267719</td>\n",
       "    </tr>\n",
       "    <tr>\n",
       "      <th>Japan</th>\n",
       "      <td>0.828513</td>\n",
       "      <td>0.171487</td>\n",
       "    </tr>\n",
       "    <tr>\n",
       "      <th>Malaysia</th>\n",
       "      <td>0.645822</td>\n",
       "      <td>0.354178</td>\n",
       "    </tr>\n",
       "    <tr>\n",
       "      <th>Singapore</th>\n",
       "      <td>0.760563</td>\n",
       "      <td>0.239437</td>\n",
       "    </tr>\n",
       "  </tbody>\n",
       "</table>\n",
       "</div>"
      ],
      "text/plain": [
       "no_show         0.0       1.0\n",
       "country                      \n",
       "Australia  0.797636  0.202364\n",
       "China      0.437166  0.562834\n",
       "India      0.779423  0.220577\n",
       "Indonesia  0.732281  0.267719\n",
       "Japan      0.828513  0.171487\n",
       "Malaysia   0.645822  0.354178\n",
       "Singapore  0.760563  0.239437"
      ]
     },
     "execution_count": 158,
     "metadata": {},
     "output_type": "execute_result"
    }
   ],
   "source": [
    "country_and_noshow = df.groupby('country')['no_show'].value_counts(normalize=True).unstack().fillna(0)\n",
    "country_and_noshow"
   ]
  },
  {
   "cell_type": "markdown",
   "metadata": {},
   "source": [
    "- Percentage of no-show reservations were generally similar for customers of different countries (around 20%). However, percentage of no-show reservations were higher for reservations from Malaysia (35.4%) and China (56.2%)."
   ]
  },
  {
   "cell_type": "code",
   "execution_count": 159,
   "metadata": {},
   "outputs": [
    {
     "data": {
      "text/html": [
       "<div>\n",
       "<style scoped>\n",
       "    .dataframe tbody tr th:only-of-type {\n",
       "        vertical-align: middle;\n",
       "    }\n",
       "\n",
       "    .dataframe tbody tr th {\n",
       "        vertical-align: top;\n",
       "    }\n",
       "\n",
       "    .dataframe thead th {\n",
       "        text-align: right;\n",
       "    }\n",
       "</style>\n",
       "<table border=\"1\" class=\"dataframe\">\n",
       "  <thead>\n",
       "    <tr style=\"text-align: right;\">\n",
       "      <th>no_show</th>\n",
       "      <th>0.0</th>\n",
       "      <th>1.0</th>\n",
       "    </tr>\n",
       "    <tr>\n",
       "      <th>platform</th>\n",
       "      <th></th>\n",
       "      <th></th>\n",
       "    </tr>\n",
       "  </thead>\n",
       "  <tbody>\n",
       "    <tr>\n",
       "      <th>Agent</th>\n",
       "      <td>0.631280</td>\n",
       "      <td>0.368720</td>\n",
       "    </tr>\n",
       "    <tr>\n",
       "      <th>Email</th>\n",
       "      <td>0.626959</td>\n",
       "      <td>0.373041</td>\n",
       "    </tr>\n",
       "    <tr>\n",
       "      <th>Phone</th>\n",
       "      <td>0.638732</td>\n",
       "      <td>0.361268</td>\n",
       "    </tr>\n",
       "    <tr>\n",
       "      <th>Website</th>\n",
       "      <td>0.632770</td>\n",
       "      <td>0.367230</td>\n",
       "    </tr>\n",
       "  </tbody>\n",
       "</table>\n",
       "</div>"
      ],
      "text/plain": [
       "no_show        0.0       1.0\n",
       "platform                    \n",
       "Agent     0.631280  0.368720\n",
       "Email     0.626959  0.373041\n",
       "Phone     0.638732  0.361268\n",
       "Website   0.632770  0.367230"
      ]
     },
     "execution_count": 159,
     "metadata": {},
     "output_type": "execute_result"
    }
   ],
   "source": [
    "platform_and_noshow = df.groupby('platform')['no_show'].value_counts(normalize=True).unstack().fillna(0)\n",
    "platform_and_noshow"
   ]
  },
  {
   "cell_type": "code",
   "execution_count": 160,
   "metadata": {},
   "outputs": [
    {
     "data": {
      "text/html": [
       "<div>\n",
       "<style scoped>\n",
       "    .dataframe tbody tr th:only-of-type {\n",
       "        vertical-align: middle;\n",
       "    }\n",
       "\n",
       "    .dataframe tbody tr th {\n",
       "        vertical-align: top;\n",
       "    }\n",
       "\n",
       "    .dataframe thead th {\n",
       "        text-align: right;\n",
       "    }\n",
       "</style>\n",
       "<table border=\"1\" class=\"dataframe\">\n",
       "  <thead>\n",
       "    <tr style=\"text-align: right;\">\n",
       "      <th>no_show</th>\n",
       "      <th>0.0</th>\n",
       "      <th>1.0</th>\n",
       "    </tr>\n",
       "    <tr>\n",
       "      <th>room</th>\n",
       "      <th></th>\n",
       "      <th></th>\n",
       "    </tr>\n",
       "  </thead>\n",
       "  <tbody>\n",
       "    <tr>\n",
       "      <th>King</th>\n",
       "      <td>0.611141</td>\n",
       "      <td>0.388859</td>\n",
       "    </tr>\n",
       "    <tr>\n",
       "      <th>President Suite</th>\n",
       "      <td>0.669189</td>\n",
       "      <td>0.330811</td>\n",
       "    </tr>\n",
       "    <tr>\n",
       "      <th>Queen</th>\n",
       "      <td>0.683398</td>\n",
       "      <td>0.316602</td>\n",
       "    </tr>\n",
       "    <tr>\n",
       "      <th>Single</th>\n",
       "      <td>0.682547</td>\n",
       "      <td>0.317453</td>\n",
       "    </tr>\n",
       "  </tbody>\n",
       "</table>\n",
       "</div>"
      ],
      "text/plain": [
       "no_show               0.0       1.0\n",
       "room                               \n",
       "King             0.611141  0.388859\n",
       "President Suite  0.669189  0.330811\n",
       "Queen            0.683398  0.316602\n",
       "Single           0.682547  0.317453"
      ]
     },
     "execution_count": 160,
     "metadata": {},
     "output_type": "execute_result"
    }
   ],
   "source": [
    "room_and_noshow = df.groupby('room')['no_show'].value_counts(normalize=True).unstack().fillna(0)\n",
    "room_and_noshow"
   ]
  },
  {
   "cell_type": "markdown",
   "metadata": {},
   "source": [
    "- The percentage of no-show reservations was generally consistent across all platforms and across all room types. Platform and room types might not be of influence to whether no-show reservations happened. "
   ]
  },
  {
   "cell_type": "code",
   "execution_count": 161,
   "metadata": {},
   "outputs": [
    {
     "name": "stdout",
     "output_type": "stream",
     "text": [
      "We reject the null hypothesis and conclude that there is significant relationship between room type and whether no-show cancellation occurs.\n"
     ]
    }
   ],
   "source": [
    "stat, p, dof, expected = chi2_contingency(pd.crosstab(df['no_show'], df['room']))\n",
    "\n",
    "if p < 0.05: \n",
    "    print(\"We reject the null hypothesis and conclude that there is significant relationship between room type and whether no-show cancellation occurs.\")\n",
    "else: \n",
    "    print(\"We do not reject the null hypothesis that there is no significant relationship between room type and whether no-show cancellation occurs.\")"
   ]
  },
  {
   "cell_type": "code",
   "execution_count": 162,
   "metadata": {},
   "outputs": [
    {
     "name": "stdout",
     "output_type": "stream",
     "text": [
      "We do not reject the null hypothesis that there is no significant relationship between platform and whether no-show cancellation occurs.\n"
     ]
    }
   ],
   "source": [
    "stat, p, dof, expected = chi2_contingency(pd.crosstab(df['no_show'], df['platform']))\n",
    "\n",
    "if p < 0.05: \n",
    "    print(\"We reject the null hypothesis and conclude that there is significant relationship between platform and whether no-show cancellation occurs.\")\n",
    "else: \n",
    "    print(\"We do not reject the null hypothesis that there is no significant relationship between platform and whether no-show cancellation occurs.\")"
   ]
  },
  {
   "cell_type": "markdown",
   "metadata": {},
   "source": [
    "- Based on chi-square test, there was significant relationship between room type and whether no-show cancellation occurs, but no significant relationship between platform and whether no-show cancellation occurs. \n",
    "- One might consider dropping platform but keeping room type when modelling whether no-show cancellation occurs."
   ]
  },
  {
   "cell_type": "code",
   "execution_count": 163,
   "metadata": {},
   "outputs": [
    {
     "data": {
      "text/html": [
       "<div>\n",
       "<style scoped>\n",
       "    .dataframe tbody tr th:only-of-type {\n",
       "        vertical-align: middle;\n",
       "    }\n",
       "\n",
       "    .dataframe tbody tr th {\n",
       "        vertical-align: top;\n",
       "    }\n",
       "\n",
       "    .dataframe thead th {\n",
       "        text-align: right;\n",
       "    }\n",
       "</style>\n",
       "<table border=\"1\" class=\"dataframe\">\n",
       "  <thead>\n",
       "    <tr style=\"text-align: right;\">\n",
       "      <th>no_show</th>\n",
       "      <th>0.0</th>\n",
       "      <th>1.0</th>\n",
       "    </tr>\n",
       "    <tr>\n",
       "      <th>first_time</th>\n",
       "      <th></th>\n",
       "      <th></th>\n",
       "    </tr>\n",
       "  </thead>\n",
       "  <tbody>\n",
       "    <tr>\n",
       "      <th>No</th>\n",
       "      <td>0.855529</td>\n",
       "      <td>0.144471</td>\n",
       "    </tr>\n",
       "    <tr>\n",
       "      <th>Yes</th>\n",
       "      <td>0.624019</td>\n",
       "      <td>0.375981</td>\n",
       "    </tr>\n",
       "  </tbody>\n",
       "</table>\n",
       "</div>"
      ],
      "text/plain": [
       "no_show          0.0       1.0\n",
       "first_time                    \n",
       "No          0.855529  0.144471\n",
       "Yes         0.624019  0.375981"
      ]
     },
     "execution_count": 163,
     "metadata": {},
     "output_type": "execute_result"
    }
   ],
   "source": [
    "first_and_noshow = df.groupby(['first_time'])['no_show'].value_counts(normalize=True).unstack().fillna(0)\n",
    "first_and_noshow"
   ]
  },
  {
   "cell_type": "markdown",
   "metadata": {},
   "source": [
    "- Reservations of first-time customers were more likely to lead to no-show reservations."
   ]
  },
  {
   "cell_type": "code",
   "execution_count": 164,
   "metadata": {},
   "outputs": [
    {
     "name": "stdout",
     "output_type": "stream",
     "text": [
      "We reject the null hypothesis and conclude that there is significant relationship between booking month and whether no-show cancellation occurs.\n"
     ]
    }
   ],
   "source": [
    "stat, p, dof, expected = chi2_contingency(pd.crosstab(df['no_show'], df['booking_month']))\n",
    "\n",
    "if p < 0.05: \n",
    "    print(\"We reject the null hypothesis and conclude that there is significant relationship between booking month and whether no-show cancellation occurs.\")\n",
    "else: \n",
    "    print(\"We do not reject the null hypothesis that there is no significant relationship between booking month and whether no-show cancellation occurs.\")"
   ]
  },
  {
   "cell_type": "code",
   "execution_count": 165,
   "metadata": {},
   "outputs": [
    {
     "data": {
      "text/html": [
       "<div>\n",
       "<style scoped>\n",
       "    .dataframe tbody tr th:only-of-type {\n",
       "        vertical-align: middle;\n",
       "    }\n",
       "\n",
       "    .dataframe tbody tr th {\n",
       "        vertical-align: top;\n",
       "    }\n",
       "\n",
       "    .dataframe thead th {\n",
       "        text-align: right;\n",
       "    }\n",
       "</style>\n",
       "<table border=\"1\" class=\"dataframe\">\n",
       "  <thead>\n",
       "    <tr style=\"text-align: right;\">\n",
       "      <th>no_show</th>\n",
       "      <th>0.0</th>\n",
       "      <th>1.0</th>\n",
       "    </tr>\n",
       "    <tr>\n",
       "      <th>booking_month</th>\n",
       "      <th></th>\n",
       "      <th></th>\n",
       "    </tr>\n",
       "  </thead>\n",
       "  <tbody>\n",
       "    <tr>\n",
       "      <th>1</th>\n",
       "      <td>0.651167</td>\n",
       "      <td>0.348833</td>\n",
       "    </tr>\n",
       "    <tr>\n",
       "      <th>2</th>\n",
       "      <td>0.662752</td>\n",
       "      <td>0.337248</td>\n",
       "    </tr>\n",
       "    <tr>\n",
       "      <th>3</th>\n",
       "      <td>0.637885</td>\n",
       "      <td>0.362115</td>\n",
       "    </tr>\n",
       "    <tr>\n",
       "      <th>4</th>\n",
       "      <td>0.609651</td>\n",
       "      <td>0.390349</td>\n",
       "    </tr>\n",
       "    <tr>\n",
       "      <th>5</th>\n",
       "      <td>0.648263</td>\n",
       "      <td>0.351737</td>\n",
       "    </tr>\n",
       "    <tr>\n",
       "      <th>6</th>\n",
       "      <td>0.593430</td>\n",
       "      <td>0.406570</td>\n",
       "    </tr>\n",
       "    <tr>\n",
       "      <th>7</th>\n",
       "      <td>0.605566</td>\n",
       "      <td>0.394434</td>\n",
       "    </tr>\n",
       "    <tr>\n",
       "      <th>8</th>\n",
       "      <td>0.638450</td>\n",
       "      <td>0.361550</td>\n",
       "    </tr>\n",
       "    <tr>\n",
       "      <th>9</th>\n",
       "      <td>0.620147</td>\n",
       "      <td>0.379853</td>\n",
       "    </tr>\n",
       "    <tr>\n",
       "      <th>10</th>\n",
       "      <td>0.640949</td>\n",
       "      <td>0.359051</td>\n",
       "    </tr>\n",
       "    <tr>\n",
       "      <th>11</th>\n",
       "      <td>0.643235</td>\n",
       "      <td>0.356765</td>\n",
       "    </tr>\n",
       "    <tr>\n",
       "      <th>12</th>\n",
       "      <td>0.627554</td>\n",
       "      <td>0.372446</td>\n",
       "    </tr>\n",
       "  </tbody>\n",
       "</table>\n",
       "</div>"
      ],
      "text/plain": [
       "no_show             0.0       1.0\n",
       "booking_month                    \n",
       "1              0.651167  0.348833\n",
       "2              0.662752  0.337248\n",
       "3              0.637885  0.362115\n",
       "4              0.609651  0.390349\n",
       "5              0.648263  0.351737\n",
       "6              0.593430  0.406570\n",
       "7              0.605566  0.394434\n",
       "8              0.638450  0.361550\n",
       "9              0.620147  0.379853\n",
       "10             0.640949  0.359051\n",
       "11             0.643235  0.356765\n",
       "12             0.627554  0.372446"
      ]
     },
     "execution_count": 165,
     "metadata": {},
     "output_type": "execute_result"
    }
   ],
   "source": [
    "book_and_noshow = df.groupby(['booking_month'])['no_show'].value_counts(normalize=True).unstack().fillna(0)\n",
    "book_and_noshow"
   ]
  },
  {
   "cell_type": "code",
   "execution_count": 166,
   "metadata": {},
   "outputs": [
    {
     "name": "stdout",
     "output_type": "stream",
     "text": [
      "We reject the null hypothesis and conclude that there is significant relationship between arrival month and whether no-show cancellation occurs.\n"
     ]
    }
   ],
   "source": [
    "stat, p, dof, expected = chi2_contingency(pd.crosstab(df['no_show'], df['arrival_month']))\n",
    "\n",
    "if p < 0.05: \n",
    "    print(\"We reject the null hypothesis and conclude that there is significant relationship between arrival month and whether no-show cancellation occurs.\")\n",
    "else: \n",
    "    print(\"We do not reject the null hypothesis that there is no significant relationship between arrival month and whether no-show cancellation occurs.\")"
   ]
  },
  {
   "cell_type": "code",
   "execution_count": 167,
   "metadata": {},
   "outputs": [
    {
     "data": {
      "text/html": [
       "<div>\n",
       "<style scoped>\n",
       "    .dataframe tbody tr th:only-of-type {\n",
       "        vertical-align: middle;\n",
       "    }\n",
       "\n",
       "    .dataframe tbody tr th {\n",
       "        vertical-align: top;\n",
       "    }\n",
       "\n",
       "    .dataframe thead th {\n",
       "        text-align: right;\n",
       "    }\n",
       "</style>\n",
       "<table border=\"1\" class=\"dataframe\">\n",
       "  <thead>\n",
       "    <tr style=\"text-align: right;\">\n",
       "      <th>no_show</th>\n",
       "      <th>0.0</th>\n",
       "      <th>1.0</th>\n",
       "    </tr>\n",
       "    <tr>\n",
       "      <th>arrival_month</th>\n",
       "      <th></th>\n",
       "      <th></th>\n",
       "    </tr>\n",
       "  </thead>\n",
       "  <tbody>\n",
       "    <tr>\n",
       "      <th>1</th>\n",
       "      <td>0.697639</td>\n",
       "      <td>0.302361</td>\n",
       "    </tr>\n",
       "    <tr>\n",
       "      <th>2</th>\n",
       "      <td>0.668459</td>\n",
       "      <td>0.331541</td>\n",
       "    </tr>\n",
       "    <tr>\n",
       "      <th>3</th>\n",
       "      <td>0.679245</td>\n",
       "      <td>0.320755</td>\n",
       "    </tr>\n",
       "    <tr>\n",
       "      <th>4</th>\n",
       "      <td>0.593688</td>\n",
       "      <td>0.406312</td>\n",
       "    </tr>\n",
       "    <tr>\n",
       "      <th>5</th>\n",
       "      <td>0.605468</td>\n",
       "      <td>0.394532</td>\n",
       "    </tr>\n",
       "    <tr>\n",
       "      <th>6</th>\n",
       "      <td>0.587916</td>\n",
       "      <td>0.412084</td>\n",
       "    </tr>\n",
       "    <tr>\n",
       "      <th>7</th>\n",
       "      <td>0.626170</td>\n",
       "      <td>0.373830</td>\n",
       "    </tr>\n",
       "    <tr>\n",
       "      <th>8</th>\n",
       "      <td>0.623047</td>\n",
       "      <td>0.376953</td>\n",
       "    </tr>\n",
       "    <tr>\n",
       "      <th>9</th>\n",
       "      <td>0.611801</td>\n",
       "      <td>0.388199</td>\n",
       "    </tr>\n",
       "    <tr>\n",
       "      <th>10</th>\n",
       "      <td>0.621482</td>\n",
       "      <td>0.378518</td>\n",
       "    </tr>\n",
       "    <tr>\n",
       "      <th>11</th>\n",
       "      <td>0.690480</td>\n",
       "      <td>0.309520</td>\n",
       "    </tr>\n",
       "    <tr>\n",
       "      <th>12</th>\n",
       "      <td>0.652380</td>\n",
       "      <td>0.347620</td>\n",
       "    </tr>\n",
       "  </tbody>\n",
       "</table>\n",
       "</div>"
      ],
      "text/plain": [
       "no_show             0.0       1.0\n",
       "arrival_month                    \n",
       "1              0.697639  0.302361\n",
       "2              0.668459  0.331541\n",
       "3              0.679245  0.320755\n",
       "4              0.593688  0.406312\n",
       "5              0.605468  0.394532\n",
       "6              0.587916  0.412084\n",
       "7              0.626170  0.373830\n",
       "8              0.623047  0.376953\n",
       "9              0.611801  0.388199\n",
       "10             0.621482  0.378518\n",
       "11             0.690480  0.309520\n",
       "12             0.652380  0.347620"
      ]
     },
     "execution_count": 167,
     "metadata": {},
     "output_type": "execute_result"
    }
   ],
   "source": [
    "arrival_and_noshow = df.groupby(['arrival_month'])['no_show'].value_counts(normalize=True).unstack().fillna(0)\n",
    "arrival_and_noshow"
   ]
  },
  {
   "cell_type": "markdown",
   "metadata": {},
   "source": [
    "- Certain booking months and arrival months had higher cancellation percentage than others."
   ]
  },
  {
   "cell_type": "markdown",
   "metadata": {},
   "source": [
    "#### **Influence of Numerical Variables on no_show**"
   ]
  },
  {
   "cell_type": "code",
   "execution_count": 168,
   "metadata": {},
   "outputs": [],
   "source": [
    "df['num_occupants'] = df['num_adults'] + df['num_children']\n",
    "df['arrival_day'] = df['arrival_day'].astype(int)\n",
    "df['checkout_day'] = abs(df['checkout_day'].astype(int))\n",
    "\n",
    "current_year = 2020\n",
    "df['arrival_date'] = pd.to_datetime(df.apply(lambda row: f\"{current_year}-{row['arrival_month']}-{row['arrival_day']}\", axis=1), format = 'mixed')\n",
    "df['checkout_date'] = pd.to_datetime(df.apply(lambda row: f\"{current_year}-{row['checkout_month']}-{row['checkout_day']}\", axis=1), format = 'mixed')\n",
    "\n",
    "df['stay_duration'] = (df['checkout_date'] - df['arrival_date']).dt.days \n",
    "df['stay_duration'] = df['stay_duration'].apply(lambda x: x + 366 if x<0 else x)"
   ]
  },
  {
   "cell_type": "code",
   "execution_count": 169,
   "metadata": {},
   "outputs": [
    {
     "data": {
      "image/png": "[encoded data removed]",
      "text/plain": [
       "<Figure size 1400x700 with 4 Axes>"
      ]
     },
     "metadata": {},
     "output_type": "display_data"
    }
   ],
   "source": [
    "fig, axes = plt.subplots(2, 2, figsize=(14, 7))\n",
    "\n",
    "sns.boxplot(ax=axes[0,0], x='no_show', y='lag_month', data=df)\n",
    "sns.boxplot(ax=axes[0,1], x='no_show', y='price', data=df)\n",
    "sns.boxplot(ax=axes[1,0], x='no_show', y='num_occupants', data=df)\n",
    "sns.boxplot(ax=axes[1,1], x='no_show', y='stay_duration', data=df)\n",
    "\n",
    "plt.tight_layout()\n",
    "plt.show()"
   ]
  },
  {
   "cell_type": "markdown",
   "metadata": {},
   "source": [
    "- No-show reservations had larger duration difference between booking month and arrival month on average. "
   ]
  },
  {
   "cell_type": "code",
   "execution_count": 170,
   "metadata": {},
   "outputs": [
    {
     "name": "stdout",
     "output_type": "stream",
     "text": [
      "KruskalResult(statistic=143773.2982741253, pvalue=0.0)\n"
     ]
    }
   ],
   "source": [
    "result = kruskal(df['no_show'], df['stay_duration'])\n",
    "print(result)"
   ]
  },
  {
   "cell_type": "code",
   "execution_count": 171,
   "metadata": {},
   "outputs": [
    {
     "name": "stdout",
     "output_type": "stream",
     "text": [
      "KruskalResult(statistic=160190.56066609814, pvalue=0.0)\n"
     ]
    }
   ],
   "source": [
    "result = kruskal(df['no_show'], df['num_occupants'])\n",
    "print(result)"
   ]
  },
  {
   "cell_type": "code",
   "execution_count": 172,
   "metadata": {},
   "outputs": [
    {
     "name": "stdout",
     "output_type": "stream",
     "text": [
      "KruskalResult(statistic=184837.12077578876, pvalue=0.0)\n"
     ]
    }
   ],
   "source": [
    "result = kruskal(df['no_show'], df['price'])\n",
    "print(result)"
   ]
  },
  {
   "cell_type": "markdown",
   "metadata": {},
   "source": [
    "- According to Kruskal-Wallis test, median difference between booking month and arrival month, median number of occupants and median stay duration were different depending on whether no-show cancellations occured."
   ]
  },
  {
   "cell_type": "markdown",
   "metadata": {},
   "source": [
    "### **Features Used to Predict No-Show Cancellations**\n",
    "**1. Categorical**\n",
    "- branch\n",
    "- booking_month\n",
    "- arrival_month\n",
    "- country: Where the customer came from.\n",
    "- first_time: Whether it was the customer's first time at the hotel. \n",
    "- room\n",
    "\n",
    "**2. Numerical**\n",
    "- price: Price (per night) for the room booked. \n",
    "- num_occupants: Total number of adults and children.\n",
    "- stay_duration: Difference (in number of days) between arrival and checkout date. \n",
    "- lag_month: Difference (in number of months) between booking and arrival date. "
   ]
  },
  {
   "cell_type": "code",
   "execution_count": 173,
   "metadata": {},
   "outputs": [
    {
     "data": {
      "text/html": [
       "<div>\n",
       "<style scoped>\n",
       "    .dataframe tbody tr th:only-of-type {\n",
       "        vertical-align: middle;\n",
       "    }\n",
       "\n",
       "    .dataframe tbody tr th {\n",
       "        vertical-align: top;\n",
       "    }\n",
       "\n",
       "    .dataframe thead th {\n",
       "        text-align: right;\n",
       "    }\n",
       "</style>\n",
       "<table border=\"1\" class=\"dataframe\">\n",
       "  <thead>\n",
       "    <tr style=\"text-align: right;\">\n",
       "      <th></th>\n",
       "      <th>branch</th>\n",
       "      <th>booking_month</th>\n",
       "      <th>arrival_month</th>\n",
       "      <th>country</th>\n",
       "      <th>first_time</th>\n",
       "      <th>room</th>\n",
       "      <th>price</th>\n",
       "      <th>num_occupants</th>\n",
       "      <th>stay_duration</th>\n",
       "      <th>lag_month</th>\n",
       "      <th>no_show</th>\n",
       "    </tr>\n",
       "  </thead>\n",
       "  <tbody>\n",
       "    <tr>\n",
       "      <th>0</th>\n",
       "      <td>Changi</td>\n",
       "      <td>11</td>\n",
       "      <td>6</td>\n",
       "      <td>Singapore</td>\n",
       "      <td>Yes</td>\n",
       "      <td>Single</td>\n",
       "      <td>492.980000</td>\n",
       "      <td>1.0</td>\n",
       "      <td>2</td>\n",
       "      <td>7</td>\n",
       "      <td>0.0</td>\n",
       "    </tr>\n",
       "    <tr>\n",
       "      <th>1</th>\n",
       "      <td>Orchard</td>\n",
       "      <td>8</td>\n",
       "      <td>11</td>\n",
       "      <td>Indonesia</td>\n",
       "      <td>Yes</td>\n",
       "      <td>King</td>\n",
       "      <td>1351.220000</td>\n",
       "      <td>2.0</td>\n",
       "      <td>1</td>\n",
       "      <td>3</td>\n",
       "      <td>0.0</td>\n",
       "    </tr>\n",
       "    <tr>\n",
       "      <th>2</th>\n",
       "      <td>Changi</td>\n",
       "      <td>3</td>\n",
       "      <td>2</td>\n",
       "      <td>India</td>\n",
       "      <td>Yes</td>\n",
       "      <td>Single</td>\n",
       "      <td>482.568092</td>\n",
       "      <td>1.0</td>\n",
       "      <td>4</td>\n",
       "      <td>11</td>\n",
       "      <td>0.0</td>\n",
       "    </tr>\n",
       "    <tr>\n",
       "      <th>3</th>\n",
       "      <td>Orchard</td>\n",
       "      <td>9</td>\n",
       "      <td>10</td>\n",
       "      <td>China</td>\n",
       "      <td>Yes</td>\n",
       "      <td>Single</td>\n",
       "      <td>666.040000</td>\n",
       "      <td>1.0</td>\n",
       "      <td>2</td>\n",
       "      <td>1</td>\n",
       "      <td>1.0</td>\n",
       "    </tr>\n",
       "    <tr>\n",
       "      <th>4</th>\n",
       "      <td>Orchard</td>\n",
       "      <td>3</td>\n",
       "      <td>6</td>\n",
       "      <td>Australia</td>\n",
       "      <td>Yes</td>\n",
       "      <td>Queen</td>\n",
       "      <td>898.249500</td>\n",
       "      <td>1.0</td>\n",
       "      <td>4</td>\n",
       "      <td>3</td>\n",
       "      <td>0.0</td>\n",
       "    </tr>\n",
       "  </tbody>\n",
       "</table>\n",
       "</div>"
      ],
      "text/plain": [
       "    branch  booking_month  arrival_month    country first_time    room  \\\n",
       "0   Changi             11              6  Singapore        Yes  Single   \n",
       "1  Orchard              8             11  Indonesia        Yes    King   \n",
       "2   Changi              3              2      India        Yes  Single   \n",
       "3  Orchard              9             10      China        Yes  Single   \n",
       "4  Orchard              3              6  Australia        Yes   Queen   \n",
       "\n",
       "         price  num_occupants  stay_duration  lag_month  no_show  \n",
       "0   492.980000            1.0              2          7      0.0  \n",
       "1  1351.220000            2.0              1          3      0.0  \n",
       "2   482.568092            1.0              4         11      0.0  \n",
       "3   666.040000            1.0              2          1      1.0  \n",
       "4   898.249500            1.0              4          3      0.0  "
      ]
     },
     "execution_count": 173,
     "metadata": {},
     "output_type": "execute_result"
    }
   ],
   "source": [
    "df = df[['branch', 'booking_month', 'arrival_month', 'country', 'first_time', 'room', 'price', 'num_occupants', 'stay_duration', 'lag_month', 'no_show']]\n",
    "df.head()"
   ]
  },
  {
   "cell_type": "markdown",
   "metadata": {},
   "source": [
    "### **Data Pre-Processing**\n",
    "- One-hot encoding was applied to transform the categorical variables. \n",
    "- Standard scaling was applied to numerical variables to remove their mean and scale each variable to unit variance. "
   ]
  },
  {
   "cell_type": "code",
   "execution_count": 174,
   "metadata": {},
   "outputs": [
    {
     "name": "stdout",
     "output_type": "stream",
     "text": [
      "Shape of X_train: (106718, 10)\n",
      "Shape of X_test: (11858, 10)\n"
     ]
    }
   ],
   "source": [
    "X = df.drop('no_show', axis = 1)\n",
    "y = df['no_show']\n",
    "\n",
    "X_train, X_test, y_train, y_test = train_test_split(X, y, test_size = 0.1, stratify=y, random_state=42)\n",
    "print(f\"Shape of X_train: {X_train.shape}\")\n",
    "print(f\"Shape of X_test: {X_test.shape}\")"
   ]
  },
  {
   "cell_type": "code",
   "execution_count": 175,
   "metadata": {},
   "outputs": [],
   "source": [
    "categorical = ['branch', 'country', 'first_time', 'room']\n",
    "encoder_dict = {}\n",
    "\n",
    "for feature in categorical: \n",
    "    encoder = OneHotEncoder(handle_unknown = 'ignore', sparse_output = False)\n",
    "    encoder.fit(X_train[[feature]])\n",
    "    encoder_dict[feature] = encoder\n",
    "\n",
    "    encoded_train = encoder.transform(X_train[[feature]])\n",
    "    encoded_test = encoder.transform(X_test[[feature]])\n",
    "    encoded_feature_names = encoder.get_feature_names_out([feature])\n",
    "\n",
    "    encoded_train = pd.DataFrame(encoded_train, columns = encoded_feature_names, index = X_train.index)\n",
    "    encoded_test = pd.DataFrame(encoded_test, columns = encoded_feature_names, index = X_test.index)\n",
    "\n",
    "    X_train = X_train.drop(columns = [feature])\n",
    "    X_test = X_test.drop(columns = [feature])\n",
    "\n",
    "    X_train = pd.concat([X_train, encoded_train], axis = 1)\n",
    "    X_test = pd.concat([X_test, encoded_test], axis = 1)"
   ]
  },
  {
   "cell_type": "code",
   "execution_count": 177,
   "metadata": {},
   "outputs": [],
   "source": [
    "scaler = StandardScaler()\n",
    "scaler.fit(X_train)\n",
    "\n",
    "X_train_scaled = scaler.transform(X_train)\n",
    "X_test_scaled = scaler.transform(X_test)\n",
    "\n",
    "X_train = pd.DataFrame(X_train_scaled, columns = X_train.columns, index = X_train.index)\n",
    "X_test = pd.DataFrame(X_test_scaled, columns = X_test.columns, index = X_test.index)"
   ]
  },
  {
   "cell_type": "markdown",
   "metadata": {},
   "source": [
    "### **Machine Learning**\n",
    "- We built two baseline machine learning models (logistic regression and K-nearest neighbours) to compare the performance of more advanced machine learning models. \n",
    "- We also built three advanced machine learning models: support vector machine, random forest and XGBoost. \n",
    "\n",
    "The above machine learning models were considered as they were common models used in binary classification tasks. \n",
    "\n",
    "1. Logistic regression\n",
    "- Pros: Easy to implement and interpret and requires less computational power. \n",
    "- Cons: Assumes a linear relationship between independent variables and the log odds of the dependent variable, which may not always hold true.\n",
    "\n",
    "2. K-nearest neighbours\n",
    "- Pros: Easy to implement and does not make any assumption about data distribution. \n",
    "- Cons: Computationally intensive and slow for large datasets as it requires computing distance between query points and all points in the dataset. \n",
    "\n",
    "3. Support vector machine\n",
    "- Pros: Robust to overfitting and works well with high-dimensional data. \n",
    "- Cons: Requires careful tuning of parameters (eg. gamma and choice of kernel). Computationally intensive for large datasets. \n",
    "\n",
    "4. Random forest\n",
    "- Pros: High accuracy and robust to overfitting. \n",
    "- Cons: Computationally intensive and more difficult to interpret compared to a single decision tree. \n",
    "\n",
    "5. XGBoost\n",
    "- Pros: High accuracy and offers a wide range of hyperparameters to tune the model. \n",
    "- Cons: Training requires significant memory and processing power. Difficult to tune and understand. \n",
    "\n",
    "We considered the recall metric to judge the performance of the machine learning models. \n",
    "- Recall explains how many of the actual predicted cases we were able to predict correctly with our model.\n",
    "- It is useful in cases where false negatives are of a higher concern than false positives. This is true in the case of no-show cancellation since correct predictions of no-show cancellations allow hotel management to allocate the room originally reserved for the no-show customer to other customers, reducing the financial loss incurred. \n",
    "\n",
    "We also considered other accuracy metrics such as confusion matrix and AUC-ROC. The greater the AUC, the better is the performance of the model at different threshold points between negative and positive points."
   ]
  },
  {
   "cell_type": "markdown",
   "metadata": {},
   "source": [
    "#### **Logistic Regression**"
   ]
  },
  {
   "cell_type": "code",
   "execution_count": 189,
   "metadata": {},
   "outputs": [
    {
     "name": "stdout",
     "output_type": "stream",
     "text": [
      "Accuracy: 0.6314724236802158\n",
      "Recall: 0.0\n",
      "AUC-ROC: 0.5\n"
     ]
    },
    {
     "data": {
      "text/plain": [
       "<Axes: >"
      ]
     },
     "execution_count": 189,
     "metadata": {},
     "output_type": "execute_result"
    },
    {
     "data": {
      "image/png": "[encoded data removed]",
      "text/plain": [
       "<Figure size 640x480 with 2 Axes>"
      ]
     },
     "metadata": {},
     "output_type": "display_data"
    }
   ],
   "source": [
    "lr = LogisticRegression()\n",
    "lr.fit(X_train, y_train)\n",
    "y_pred = lr.predict(X_test)\n",
    "\n",
    "print(f\"Accuracy: {accuracy_score(y_test, y_pred)}\")\n",
    "print(f\"Recall: {recall_score(y_test, y_pred)}\")\n",
    "print(f\"AUC-ROC: {roc_auc_score(y_test, y_pred)}\")\n",
    "\n",
    "sns.heatmap(confusion_matrix(y_test, y_pred, labels = lr.classes_), annot = True)"
   ]
  },
  {
   "cell_type": "markdown",
   "metadata": {},
   "source": [
    "- While logistic regression managed to classify correctly all reservations who showed up, it did not classify correctly any no-show cancellations. Logistic regression is a poor classifier for the task."
   ]
  },
  {
   "cell_type": "markdown",
   "metadata": {},
   "source": [
    "#### **K-Nearest Neighbours**"
   ]
  },
  {
   "cell_type": "code",
   "execution_count": 197,
   "metadata": {},
   "outputs": [
    {
     "name": "stdout",
     "output_type": "stream",
     "text": [
      "Maximum recall:- 0.0009153318077803204 at K = 4\n"
     ]
    },
    {
     "data": {
      "image/png": "[encoded data removed]",
      "text/plain": [
       "<Figure size 1000x600 with 1 Axes>"
      ]
     },
     "metadata": {},
     "output_type": "display_data"
    }
   ],
   "source": [
    "recall = []\n",
    "for i in range(1,20):\n",
    " knn = KNeighborsClassifier(n_neighbors=i)\n",
    " knn.fit(X_train,y_train)\n",
    " pred_i = knn.predict(X_test)\n",
    " recall.append(recall_score(y_test, pred_i))\n",
    "\n",
    "\n",
    "plt.figure(figsize=(10,6))\n",
    "plt.plot(range(1,20),recall,linestyle='dashed', \n",
    "         marker='o')\n",
    "plt.title('Recall vs. K Value')\n",
    "plt.xlabel('K')\n",
    "plt.ylabel('Recall')\n",
    "print(\"Maximum recall:-\",max(recall),\"at K =\",recall.index(max(recall)))"
   ]
  },
  {
   "cell_type": "code",
   "execution_count": 196,
   "metadata": {},
   "outputs": [
    {
     "name": "stdout",
     "output_type": "stream",
     "text": [
      "Accuracy: 0.6314724236802158\n",
      "Recall: 0.0\n",
      "AUC-ROC: 0.5\n"
     ]
    },
    {
     "data": {
      "text/plain": [
       "<Axes: >"
      ]
     },
     "execution_count": 196,
     "metadata": {},
     "output_type": "execute_result"
    },
    {
     "data": {
      "image/png": "[encoded data removed]",
      "text/plain": [
       "<Figure size 640x480 with 2 Axes>"
      ]
     },
     "metadata": {},
     "output_type": "display_data"
    }
   ],
   "source": [
    "knn = KNeighborsClassifier(n_neighbors=4)\n",
    "knn.fit(X_train, y_train)\n",
    "y_pred = knn.predict(X_test)\n",
    "\n",
    "print(f\"Accuracy: {accuracy_score(y_test, y_pred)}\")\n",
    "print(f\"Recall: {recall_score(y_test, y_pred)}\")\n",
    "print(f\"AUC-ROC: {roc_auc_score(y_test, y_pred)}\")\n",
    "\n",
    "sns.heatmap(confusion_matrix(y_test, y_pred, labels = knn.classes_), annot = True)"
   ]
  },
  {
   "cell_type": "markdown",
   "metadata": {},
   "source": [
    "- While K-nearest neighbours managed to classify correctly all reservations who showed up, it did not classify correctly any no-show cancellations."
   ]
  },
  {
   "cell_type": "markdown",
   "metadata": {},
   "source": [
    "#### **Support Vector Machine**"
   ]
  },
  {
   "cell_type": "code",
   "execution_count": 200,
   "metadata": {},
   "outputs": [
    {
     "name": "stdout",
     "output_type": "stream",
     "text": [
      "Accuracy: 0.6314724236802158\n",
      "Recall: 0.0\n",
      "AUC-ROC: 0.5\n"
     ]
    },
    {
     "data": {
      "text/plain": [
       "<Axes: >"
      ]
     },
     "execution_count": 200,
     "metadata": {},
     "output_type": "execute_result"
    },
    {
     "data": {
      "image/png": "[encoded data removed]",
      "text/plain": [
       "<Figure size 640x480 with 2 Axes>"
      ]
     },
     "metadata": {},
     "output_type": "display_data"
    }
   ],
   "source": [
    "svm_default = svm.SVC()\n",
    "svm_default.fit(X_train, y_train)\n",
    "y_pred = svm_default.predict(X_test)\n",
    "\n",
    "print(f\"Accuracy: {accuracy_score(y_test, y_pred)}\")\n",
    "print(f\"Recall: {recall_score(y_test, y_pred)}\")\n",
    "print(f\"AUC-ROC: {roc_auc_score(y_test, y_pred)}\")\n",
    "\n",
    "sns.heatmap(confusion_matrix(y_test, y_pred, labels = svm_default.classes_), annot = True)"
   ]
  },
  {
   "cell_type": "markdown",
   "metadata": {},
   "source": [
    "- While support vector machines managed to classify correctly all reservations who showed up, it did not classify correctly any no-show cancellations."
   ]
  },
  {
   "cell_type": "markdown",
   "metadata": {},
   "source": [
    "#### **Random Forest Classifier**"
   ]
  },
  {
   "cell_type": "code",
   "execution_count": 191,
   "metadata": {},
   "outputs": [
    {
     "name": "stdout",
     "output_type": "stream",
     "text": [
      "Accuracy: 0.6899983133749368\n",
      "Recall: 0.4826086956521739\n",
      "AUC-ROC: 0.6468198392790785\n"
     ]
    },
    {
     "data": {
      "text/plain": [
       "<Axes: >"
      ]
     },
     "execution_count": 191,
     "metadata": {},
     "output_type": "execute_result"
    },
    {
     "data": {
      "image/png": "[encoded data removed]",
      "text/plain": [
       "<Figure size 640x480 with 2 Axes>"
      ]
     },
     "metadata": {},
     "output_type": "display_data"
    }
   ],
   "source": [
    "rf = RandomForestClassifier()\n",
    "rf.fit(X_train, y_train)\n",
    "y_pred = rf.predict(X_test)\n",
    "\n",
    "print(f\"Accuracy: {accuracy_score(y_test, y_pred)}\")\n",
    "print(f\"Recall: {recall_score(y_test, y_pred)}\")\n",
    "print(f\"AUC-ROC: {roc_auc_score(y_test, y_pred)}\")\n",
    "\n",
    "sns.heatmap(confusion_matrix(y_test, y_pred, labels = lr.classes_), annot = True)"
   ]
  },
  {
   "cell_type": "markdown",
   "metadata": {},
   "source": [
    "- Random forest classified 50% of no-show cancellations correctly and did much better compared to logistic regression and KNN. "
   ]
  },
  {
   "cell_type": "markdown",
   "metadata": {},
   "source": [
    "#### **XGBoost**"
   ]
  },
  {
   "cell_type": "code",
   "execution_count": 205,
   "metadata": {},
   "outputs": [
    {
     "name": "stdout",
     "output_type": "stream",
     "text": [
      "Accuracy: 0.6235452858829482\n",
      "Recall: 0.03501144164759725\n",
      "AUC-ROC: 0.5010126652682431\n"
     ]
    },
    {
     "data": {
      "text/plain": [
       "<Axes: >"
      ]
     },
     "execution_count": 205,
     "metadata": {},
     "output_type": "execute_result"
    },
    {
     "data": {
      "image/png": "[encoded data removed]",
      "text/plain": [
       "<Figure size 640x480 with 2 Axes>"
      ]
     },
     "metadata": {},
     "output_type": "display_data"
    }
   ],
   "source": [
    "xgb = xgb.XGBClassifier()\n",
    "xgb.fit(X_train, y_train)\n",
    "y_pred = xgb.predict(X_test)\n",
    "\n",
    "print(f\"Accuracy: {accuracy_score(y_test, y_pred)}\")\n",
    "print(f\"Recall: {recall_score(y_test, y_pred)}\")\n",
    "print(f\"AUC-ROC: {roc_auc_score(y_test, y_pred)}\")\n",
    "\n",
    "sns.heatmap(confusion_matrix(y_test, y_pred, labels = lr.classes_), annot = True)"
   ]
  },
  {
   "cell_type": "markdown",
   "metadata": {},
   "source": [
    "- XGBoost performed poorer in classifying correctly no-show cancellations compared to random forest. \n",
    "- The optimal model for classifying no-show cancellations is random forest classifier."
   ]
  },
  {
   "cell_type": "markdown",
   "metadata": {},
   "source": [
    "#### **Tuning Random Forest Classifier**\n",
    "- Optuna was used to tune the hyperparameters of random forest classifer. The optimal set of hyperparameters was chosen based on when the recall metric was maximised."
   ]
  },
  {
   "cell_type": "code",
   "execution_count": 210,
   "metadata": {},
   "outputs": [],
   "source": [
    "def optimize_rf(trial): \n",
    "    params = {\n",
    "        'n_estimators': trial.suggest_int('n_estimators', 10, 200), \n",
    "        'max_depth': trial.suggest_int('max_depth', 3, 10), \n",
    "        'min_samples_split': trial.suggest_int('min_samples_split', 2, 10), \n",
    "        'min_samples_leaf': trial.suggest_int('min_samples_leaf', 2, 10),\n",
    "        'n_jobs': -1\n",
    "    }\n",
    "    \n",
    "    rf = RandomForestClassifier(**params)\n",
    "    rf.fit(X_train, y_train)\n",
    "\n",
    "    y_pred = rf.predict(X_test)\n",
    "    recall = recall_score(y_test, y_pred)\n",
    "\n",
    "    return recall"
   ]
  },
  {
   "cell_type": "code",
   "execution_count": 211,
   "metadata": {},
   "outputs": [
    {
     "name": "stderr",
     "output_type": "stream",
     "text": [
      "[I 2024-07-10 11:59:03,008] A new study created in memory with name: xgb_study\n",
      "Best trial: 5. Best value: 0.608467:   1%|          | 1/100 [00:01<01:59,  1.20s/it]"
     ]
    },
    {
     "name": "stdout",
     "output_type": "stream",
     "text": [
      "[I 2024-07-10 11:59:04,073] Trial 5 finished with value: 0.608466819221968 and parameters: {'n_estimators': 10, 'max_depth': 4, 'min_samples_split': 10, 'min_samples_leaf': 6}. Best is trial 5 with value: 0.608466819221968.\n"
     ]
    },
    {
     "name": "stderr",
     "output_type": "stream",
     "text": [
      "Best trial: 2. Best value: 0.612357:   2%|▏         | 2/100 [00:02<01:59,  1.22s/it]"
     ]
    },
    {
     "name": "stdout",
     "output_type": "stream",
     "text": [
      "[I 2024-07-10 11:59:05,243] Trial 2 finished with value: 0.6123569794050343 and parameters: {'n_estimators': 28, 'max_depth': 10, 'min_samples_split': 10, 'min_samples_leaf': 8}. Best is trial 2 with value: 0.6123569794050343.\n"
     ]
    },
    {
     "name": "stderr",
     "output_type": "stream",
     "text": [
      "Best trial: 2. Best value: 0.612357:   3%|▎         | 3/100 [00:02<01:21,  1.19it/s]"
     ]
    },
    {
     "name": "stdout",
     "output_type": "stream",
     "text": [
      "[I 2024-07-10 11:59:05,706] Trial 7 finished with value: 0.608466819221968 and parameters: {'n_estimators': 32, 'max_depth': 10, 'min_samples_split': 7, 'min_samples_leaf': 5}. Best is trial 2 with value: 0.6123569794050343.\n",
      "[I 2024-07-10 11:59:05,736] Trial 0 finished with value: 0.6011441647597254 and parameters: {'n_estimators': 41, 'max_depth': 7, 'min_samples_split': 7, 'min_samples_leaf': 3}. Best is trial 2 with value: 0.6123569794050343.\n"
     ]
    },
    {
     "name": "stderr",
     "output_type": "stream",
     "text": [
      "Best trial: 2. Best value: 0.612357:   5%|▌         | 5/100 [00:03<00:58,  1.61it/s]"
     ]
    },
    {
     "name": "stdout",
     "output_type": "stream",
     "text": [
      "[I 2024-07-10 11:59:06,619] Trial 4 finished with value: 0.608466819221968 and parameters: {'n_estimators': 67, 'max_depth': 7, 'min_samples_split': 3, 'min_samples_leaf': 6}. Best is trial 2 with value: 0.6123569794050343.\n"
     ]
    },
    {
     "name": "stderr",
     "output_type": "stream",
     "text": [
      "Best trial: 2. Best value: 0.612357:   6%|▌         | 6/100 [00:06<01:44,  1.11s/it]"
     ]
    },
    {
     "name": "stdout",
     "output_type": "stream",
     "text": [
      "[I 2024-07-10 11:59:08,982] Trial 12 finished with value: 0.5798627002288329 and parameters: {'n_estimators': 42, 'max_depth': 5, 'min_samples_split': 8, 'min_samples_leaf': 6}. Best is trial 2 with value: 0.6123569794050343.\n",
      "[I 2024-07-10 11:59:09,166] Trial 6 finished with value: 0.608466819221968 and parameters: {'n_estimators': 138, 'max_depth': 5, 'min_samples_split': 9, 'min_samples_leaf': 10}. Best is trial 2 with value: 0.6123569794050343.\n"
     ]
    },
    {
     "name": "stderr",
     "output_type": "stream",
     "text": [
      "Best trial: 2. Best value: 0.612357:   8%|▊         | 8/100 [00:06<00:58,  1.56it/s]"
     ]
    },
    {
     "name": "stdout",
     "output_type": "stream",
     "text": [
      "[I 2024-07-10 11:59:09,197] Trial 1 finished with value: 0.608466819221968 and parameters: {'n_estimators': 130, 'max_depth': 6, 'min_samples_split': 8, 'min_samples_leaf': 8}. Best is trial 2 with value: 0.6123569794050343.\n"
     ]
    },
    {
     "name": "stderr",
     "output_type": "stream",
     "text": [
      "Best trial: 2. Best value: 0.612357:   9%|▉         | 9/100 [00:06<00:56,  1.60it/s]"
     ]
    },
    {
     "name": "stdout",
     "output_type": "stream",
     "text": [
      "[I 2024-07-10 11:59:09,942] Trial 8 finished with value: 0.4475972540045767 and parameters: {'n_estimators': 175, 'max_depth': 3, 'min_samples_split': 5, 'min_samples_leaf': 5}. Best is trial 2 with value: 0.6123569794050343.\n"
     ]
    },
    {
     "name": "stderr",
     "output_type": "stream",
     "text": [
      "Best trial: 2. Best value: 0.612357:  10%|█         | 10/100 [00:07<00:45,  1.96it/s]"
     ]
    },
    {
     "name": "stdout",
     "output_type": "stream",
     "text": [
      "[I 2024-07-10 11:59:10,181] Trial 9 finished with value: 0.4475972540045767 and parameters: {'n_estimators': 152, 'max_depth': 3, 'min_samples_split': 9, 'min_samples_leaf': 6}. Best is trial 2 with value: 0.6123569794050343.\n"
     ]
    },
    {
     "name": "stderr",
     "output_type": "stream",
     "text": [
      "Best trial: 2. Best value: 0.612357:  11%|█         | 11/100 [00:08<00:53,  1.68it/s]"
     ]
    },
    {
     "name": "stdout",
     "output_type": "stream",
     "text": [
      "[I 2024-07-10 11:59:10,973] Trial 3 finished with value: 0.608466819221968 and parameters: {'n_estimators': 183, 'max_depth': 7, 'min_samples_split': 10, 'min_samples_leaf': 5}. Best is trial 2 with value: 0.6123569794050343.\n"
     ]
    },
    {
     "name": "stderr",
     "output_type": "stream",
     "text": [
      "Best trial: 2. Best value: 0.612357:  12%|█▏        | 12/100 [00:09<01:21,  1.08it/s]"
     ]
    },
    {
     "name": "stdout",
     "output_type": "stream",
     "text": [
      "[I 2024-07-10 11:59:12,689] Trial 14 finished with value: 0.608466819221968 and parameters: {'n_estimators': 64, 'max_depth': 7, 'min_samples_split': 3, 'min_samples_leaf': 8}. Best is trial 2 with value: 0.6123569794050343.\n",
      "[I 2024-07-10 11:59:12,830] Trial 13 finished with value: 0.608466819221968 and parameters: {'n_estimators': 95, 'max_depth': 6, 'min_samples_split': 5, 'min_samples_leaf': 7}. Best is trial 2 with value: 0.6123569794050343.\n"
     ]
    },
    {
     "name": "stderr",
     "output_type": "stream",
     "text": [
      "Best trial: 2. Best value: 0.612357:  14%|█▍        | 14/100 [00:10<00:51,  1.67it/s]"
     ]
    },
    {
     "name": "stdout",
     "output_type": "stream",
     "text": [
      "[I 2024-07-10 11:59:13,304] Trial 10 finished with value: 0.608466819221968 and parameters: {'n_estimators': 193, 'max_depth': 6, 'min_samples_split': 8, 'min_samples_leaf': 6}. Best is trial 2 with value: 0.6123569794050343.\n"
     ]
    },
    {
     "name": "stderr",
     "output_type": "stream",
     "text": [
      "Best trial: 2. Best value: 0.612357:  15%|█▌        | 15/100 [00:10<00:44,  1.93it/s]"
     ]
    },
    {
     "name": "stdout",
     "output_type": "stream",
     "text": [
      "[I 2024-07-10 11:59:13,633] Trial 11 finished with value: 0.608466819221968 and parameters: {'n_estimators': 178, 'max_depth': 9, 'min_samples_split': 7, 'min_samples_leaf': 8}. Best is trial 2 with value: 0.6123569794050343.\n"
     ]
    },
    {
     "name": "stderr",
     "output_type": "stream",
     "text": [
      "Best trial: 2. Best value: 0.612357:  17%|█▋        | 17/100 [00:12<00:56,  1.47it/s]"
     ]
    },
    {
     "name": "stdout",
     "output_type": "stream",
     "text": [
      "[I 2024-07-10 11:59:15,464] Trial 16 finished with value: 0.608466819221968 and parameters: {'n_estimators': 140, 'max_depth': 5, 'min_samples_split': 3, 'min_samples_leaf': 3}. Best is trial 2 with value: 0.6123569794050343.\n",
      "[I 2024-07-10 11:59:15,490] Trial 17 finished with value: 0.608466819221968 and parameters: {'n_estimators': 89, 'max_depth': 10, 'min_samples_split': 5, 'min_samples_leaf': 9}. Best is trial 2 with value: 0.6123569794050343.\n"
     ]
    },
    {
     "name": "stderr",
     "output_type": "stream",
     "text": [
      "Best trial: 2. Best value: 0.612357:  18%|█▊        | 18/100 [00:13<01:03,  1.29it/s]"
     ]
    },
    {
     "name": "stdout",
     "output_type": "stream",
     "text": [
      "[I 2024-07-10 11:59:16,597] Trial 18 finished with value: 0.608466819221968 and parameters: {'n_estimators': 100, 'max_depth': 10, 'min_samples_split': 5, 'min_samples_leaf': 9}. Best is trial 2 with value: 0.6123569794050343.\n"
     ]
    },
    {
     "name": "stderr",
     "output_type": "stream",
     "text": [
      "Best trial: 2. Best value: 0.612357:  19%|█▉        | 19/100 [00:14<00:59,  1.35it/s]"
     ]
    },
    {
     "name": "stdout",
     "output_type": "stream",
     "text": [
      "[I 2024-07-10 11:59:17,190] Trial 15 finished with value: 0.608466819221968 and parameters: {'n_estimators': 144, 'max_depth': 9, 'min_samples_split': 9, 'min_samples_leaf': 2}. Best is trial 2 with value: 0.6123569794050343.\n"
     ]
    },
    {
     "name": "stderr",
     "output_type": "stream",
     "text": [
      "Best trial: 2. Best value: 0.612357:  20%|██        | 20/100 [00:16<01:34,  1.18s/it]"
     ]
    },
    {
     "name": "stdout",
     "output_type": "stream",
     "text": [
      "[I 2024-07-10 11:59:19,433] Trial 19 finished with value: 0.6091533180778032 and parameters: {'n_estimators': 110, 'max_depth': 10, 'min_samples_split': 5, 'min_samples_leaf': 9}. Best is trial 2 with value: 0.6123569794050343.\n"
     ]
    },
    {
     "name": "stderr",
     "output_type": "stream",
     "text": [
      "Best trial: 2. Best value: 0.612357:  21%|██        | 21/100 [00:16<01:13,  1.07it/s]"
     ]
    },
    {
     "name": "stdout",
     "output_type": "stream",
     "text": [
      "[I 2024-07-10 11:59:19,836] Trial 21 finished with value: 0.608466819221968 and parameters: {'n_estimators': 109, 'max_depth': 9, 'min_samples_split': 10, 'min_samples_leaf': 9}. Best is trial 2 with value: 0.6123569794050343.\n"
     ]
    },
    {
     "name": "stderr",
     "output_type": "stream",
     "text": [
      "Best trial: 2. Best value: 0.612357:  22%|██▏       | 22/100 [00:17<01:15,  1.03it/s]"
     ]
    },
    {
     "name": "stdout",
     "output_type": "stream",
     "text": [
      "[I 2024-07-10 11:59:20,867] Trial 22 finished with value: 0.608466819221968 and parameters: {'n_estimators': 112, 'max_depth': 9, 'min_samples_split': 10, 'min_samples_leaf': 10}. Best is trial 2 with value: 0.6123569794050343.\n",
      "[I 2024-07-10 11:59:20,928] Trial 20 finished with value: 0.608466819221968 and parameters: {'n_estimators': 114, 'max_depth': 10, 'min_samples_split': 8, 'min_samples_leaf': 9}. Best is trial 2 with value: 0.6123569794050343.\n"
     ]
    },
    {
     "name": "stderr",
     "output_type": "stream",
     "text": [
      "Best trial: 2. Best value: 0.612357:  24%|██▍       | 24/100 [00:18<00:50,  1.50it/s]"
     ]
    },
    {
     "name": "stdout",
     "output_type": "stream",
     "text": [
      "[I 2024-07-10 11:59:21,464] Trial 23 finished with value: 0.608466819221968 and parameters: {'n_estimators': 109, 'max_depth': 9, 'min_samples_split': 9, 'min_samples_leaf': 10}. Best is trial 2 with value: 0.6123569794050343.\n"
     ]
    },
    {
     "name": "stderr",
     "output_type": "stream",
     "text": [
      "Best trial: 2. Best value: 0.612357:  25%|██▌       | 25/100 [00:19<00:50,  1.48it/s]"
     ]
    },
    {
     "name": "stdout",
     "output_type": "stream",
     "text": [
      "[I 2024-07-10 11:59:22,194] Trial 24 finished with value: 0.608466819221968 and parameters: {'n_estimators': 120, 'max_depth': 9, 'min_samples_split': 9, 'min_samples_leaf': 10}. Best is trial 2 with value: 0.6123569794050343.\n"
     ]
    },
    {
     "name": "stderr",
     "output_type": "stream",
     "text": [
      "Best trial: 2. Best value: 0.612357:  26%|██▌       | 26/100 [00:19<00:44,  1.65it/s]"
     ]
    },
    {
     "name": "stdout",
     "output_type": "stream",
     "text": [
      "[I 2024-07-10 11:59:22,563] Trial 25 finished with value: 0.608466819221968 and parameters: {'n_estimators': 117, 'max_depth': 8, 'min_samples_split': 9, 'min_samples_leaf': 10}. Best is trial 2 with value: 0.6123569794050343.\n"
     ]
    },
    {
     "name": "stderr",
     "output_type": "stream",
     "text": [
      "Best trial: 2. Best value: 0.612357:  27%|██▋       | 27/100 [00:20<00:43,  1.69it/s]"
     ]
    },
    {
     "name": "stdout",
     "output_type": "stream",
     "text": [
      "[I 2024-07-10 11:59:23,160] Trial 26 finished with value: 0.608466819221968 and parameters: {'n_estimators': 122, 'max_depth': 8, 'min_samples_split': 10, 'min_samples_leaf': 8}. Best is trial 2 with value: 0.6123569794050343.\n"
     ]
    },
    {
     "name": "stderr",
     "output_type": "stream",
     "text": [
      "Best trial: 2. Best value: 0.612357:  28%|██▊       | 28/100 [00:22<01:13,  1.01s/it]"
     ]
    },
    {
     "name": "stdout",
     "output_type": "stream",
     "text": [
      "[I 2024-07-10 11:59:25,114] Trial 30 finished with value: 0.608466819221968 and parameters: {'n_estimators': 78, 'max_depth': 8, 'min_samples_split': 6, 'min_samples_leaf': 8}. Best is trial 2 with value: 0.6123569794050343.\n"
     ]
    },
    {
     "name": "stderr",
     "output_type": "stream",
     "text": [
      "Best trial: 2. Best value: 0.612357:  29%|██▉       | 29/100 [00:23<01:08,  1.04it/s]"
     ]
    },
    {
     "name": "stdout",
     "output_type": "stream",
     "text": [
      "[I 2024-07-10 11:59:25,920] Trial 27 finished with value: 0.608466819221968 and parameters: {'n_estimators': 115, 'max_depth': 9, 'min_samples_split': 2, 'min_samples_leaf': 10}. Best is trial 2 with value: 0.6123569794050343.\n",
      "[I 2024-07-10 11:59:26,114] Trial 31 finished with value: 0.608466819221968 and parameters: {'n_estimators': 77, 'max_depth': 8, 'min_samples_split': 6, 'min_samples_leaf': 8}. Best is trial 2 with value: 0.6123569794050343.\n"
     ]
    },
    {
     "name": "stderr",
     "output_type": "stream",
     "text": [
      "Best trial: 2. Best value: 0.612357:  31%|███       | 31/100 [00:23<00:41,  1.68it/s]"
     ]
    },
    {
     "name": "stdout",
     "output_type": "stream",
     "text": [
      "[I 2024-07-10 11:59:26,318] Trial 28 finished with value: 0.608466819221968 and parameters: {'n_estimators': 119, 'max_depth': 8, 'min_samples_split': 6, 'min_samples_leaf': 10}. Best is trial 2 with value: 0.6123569794050343.\n"
     ]
    },
    {
     "name": "stderr",
     "output_type": "stream",
     "text": [
      "Best trial: 2. Best value: 0.612357:  32%|███▏      | 32/100 [00:24<00:40,  1.67it/s]"
     ]
    },
    {
     "name": "stdout",
     "output_type": "stream",
     "text": [
      "[I 2024-07-10 11:59:26,852] Trial 32 finished with value: 0.608466819221968 and parameters: {'n_estimators': 81, 'max_depth': 8, 'min_samples_split': 6, 'min_samples_leaf': 8}. Best is trial 2 with value: 0.6123569794050343.\n",
      "[I 2024-07-10 11:59:27,006] Trial 34 finished with value: 0.608466819221968 and parameters: {'n_estimators': 67, 'max_depth': 8, 'min_samples_split': 6, 'min_samples_leaf': 7}. Best is trial 2 with value: 0.6123569794050343.\n"
     ]
    },
    {
     "name": "stderr",
     "output_type": "stream",
     "text": [
      "                                                                                     "
     ]
    },
    {
     "name": "stdout",
     "output_type": "stream",
     "text": [
      "[I 2024-07-10 11:59:27,172] Trial 33 finished with value: 0.608466819221968 and parameters: {'n_estimators': 84, 'max_depth': 8, 'min_samples_split': 6, 'min_samples_leaf': 8}. Best is trial 2 with value: 0.6123569794050343.\n"
     ]
    },
    {
     "name": "stderr",
     "output_type": "stream",
     "text": [
      "Best trial: 2. Best value: 0.612357:  35%|███▌      | 35/100 [00:24<00:24,  2.62it/s]"
     ]
    },
    {
     "name": "stdout",
     "output_type": "stream",
     "text": [
      "[I 2024-07-10 11:59:27,424] Trial 29 finished with value: 0.608466819221968 and parameters: {'n_estimators': 130, 'max_depth': 8, 'min_samples_split': 6, 'min_samples_leaf': 8}. Best is trial 2 with value: 0.6123569794050343.\n"
     ]
    },
    {
     "name": "stderr",
     "output_type": "stream",
     "text": [
      "Best trial: 2. Best value: 0.612357:  36%|███▌      | 36/100 [00:25<00:31,  2.05it/s]"
     ]
    },
    {
     "name": "stdout",
     "output_type": "stream",
     "text": [
      "[I 2024-07-10 11:59:28,364] Trial 41 finished with value: 0.608466819221968 and parameters: {'n_estimators': 10, 'max_depth': 6, 'min_samples_split': 4, 'min_samples_leaf': 4}. Best is trial 2 with value: 0.6123569794050343.\n"
     ]
    },
    {
     "name": "stderr",
     "output_type": "stream",
     "text": [
      "Best trial: 2. Best value: 0.612357:  37%|███▋      | 37/100 [00:28<01:10,  1.11s/it]"
     ]
    },
    {
     "name": "stdout",
     "output_type": "stream",
     "text": [
      "[I 2024-07-10 11:59:31,221] Trial 35 finished with value: 0.608466819221968 and parameters: {'n_estimators': 162, 'max_depth': 6, 'min_samples_split': 4, 'min_samples_leaf': 7}. Best is trial 2 with value: 0.6123569794050343.\n"
     ]
    },
    {
     "name": "stderr",
     "output_type": "stream",
     "text": [
      "Best trial: 2. Best value: 0.612357:  39%|███▉      | 39/100 [00:29<00:53,  1.13it/s]"
     ]
    },
    {
     "name": "stdout",
     "output_type": "stream",
     "text": [
      "[I 2024-07-10 11:59:32,505] Trial 36 finished with value: 0.608466819221968 and parameters: {'n_estimators': 159, 'max_depth': 6, 'min_samples_split': 4, 'min_samples_leaf': 7}. Best is trial 2 with value: 0.6123569794050343.\n",
      "[I 2024-07-10 11:59:32,590] Trial 37 finished with value: 0.608466819221968 and parameters: {'n_estimators': 160, 'max_depth': 6, 'min_samples_split': 4, 'min_samples_leaf': 7}. Best is trial 2 with value: 0.6123569794050343.\n"
     ]
    },
    {
     "name": "stderr",
     "output_type": "stream",
     "text": [
      "Best trial: 2. Best value: 0.612357:  40%|████      | 40/100 [00:30<00:53,  1.12it/s]"
     ]
    },
    {
     "name": "stdout",
     "output_type": "stream",
     "text": [
      "[I 2024-07-10 11:59:33,615] Trial 38 finished with value: 0.608466819221968 and parameters: {'n_estimators': 159, 'max_depth': 6, 'min_samples_split': 4, 'min_samples_leaf': 4}. Best is trial 2 with value: 0.6123569794050343.\n"
     ]
    },
    {
     "name": "stderr",
     "output_type": "stream",
     "text": [
      "Best trial: 2. Best value: 0.612357:  41%|████      | 41/100 [00:31<00:48,  1.23it/s]"
     ]
    },
    {
     "name": "stdout",
     "output_type": "stream",
     "text": [
      "[I 2024-07-10 11:59:34,160] Trial 40 finished with value: 0.608466819221968 and parameters: {'n_estimators': 156, 'max_depth': 6, 'min_samples_split': 4, 'min_samples_leaf': 4}. Best is trial 2 with value: 0.6123569794050343.\n",
      "[I 2024-07-10 11:59:34,242] Trial 39 finished with value: 0.608466819221968 and parameters: {'n_estimators': 164, 'max_depth': 6, 'min_samples_split': 4, 'min_samples_leaf': 4}. Best is trial 2 with value: 0.6123569794050343.\n"
     ]
    },
    {
     "name": "stderr",
     "output_type": "stream",
     "text": [
      "Best trial: 2. Best value: 0.612357:  44%|████▍     | 44/100 [00:31<00:26,  2.13it/s]"
     ]
    },
    {
     "name": "stdout",
     "output_type": "stream",
     "text": [
      "[I 2024-07-10 11:59:34,842] Trial 42 finished with value: 0.608466819221968 and parameters: {'n_estimators': 162, 'max_depth': 6, 'min_samples_split': 4, 'min_samples_leaf': 4}. Best is trial 2 with value: 0.6123569794050343.\n",
      "[I 2024-07-10 11:59:34,957] Trial 43 finished with value: 0.608466819221968 and parameters: {'n_estimators': 152, 'max_depth': 7, 'min_samples_split': 8, 'min_samples_leaf': 7}. Best is trial 2 with value: 0.6123569794050343.\n"
     ]
    },
    {
     "name": "stderr",
     "output_type": "stream",
     "text": [
      "Best trial: 2. Best value: 0.612357:  45%|████▌     | 45/100 [00:33<00:44,  1.23it/s]"
     ]
    },
    {
     "name": "stdout",
     "output_type": "stream",
     "text": [
      "[I 2024-07-10 11:59:36,717] Trial 48 finished with value: 0.608466819221968 and parameters: {'n_estimators': 32, 'max_depth': 7, 'min_samples_split': 8, 'min_samples_leaf': 5}. Best is trial 2 with value: 0.6123569794050343.\n"
     ]
    },
    {
     "name": "stderr",
     "output_type": "stream",
     "text": [
      "Best trial: 2. Best value: 0.612357:  46%|████▌     | 46/100 [00:34<00:38,  1.39it/s]"
     ]
    },
    {
     "name": "stdout",
     "output_type": "stream",
     "text": [
      "[I 2024-07-10 11:59:37,111] Trial 49 finished with value: 0.608466819221968 and parameters: {'n_estimators': 44, 'max_depth': 7, 'min_samples_split': 8, 'min_samples_leaf': 5}. Best is trial 2 with value: 0.6123569794050343.\n"
     ]
    },
    {
     "name": "stderr",
     "output_type": "stream",
     "text": [
      "Best trial: 2. Best value: 0.612357:  47%|████▋     | 47/100 [00:34<00:34,  1.55it/s]"
     ]
    },
    {
     "name": "stdout",
     "output_type": "stream",
     "text": [
      "[I 2024-07-10 11:59:37,533] Trial 50 finished with value: 0.608466819221968 and parameters: {'n_estimators': 44, 'max_depth': 7, 'min_samples_split': 8, 'min_samples_leaf': 5}. Best is trial 2 with value: 0.6123569794050343.\n"
     ]
    },
    {
     "name": "stderr",
     "output_type": "stream",
     "text": [
      "Best trial: 2. Best value: 0.612357:  48%|████▊     | 48/100 [00:34<00:28,  1.84it/s]"
     ]
    },
    {
     "name": "stdout",
     "output_type": "stream",
     "text": [
      "[I 2024-07-10 11:59:37,882] Trial 51 finished with value: 0.608466819221968 and parameters: {'n_estimators': 45, 'max_depth': 7, 'min_samples_split': 7, 'min_samples_leaf': 5}. Best is trial 2 with value: 0.6123569794050343.\n"
     ]
    },
    {
     "name": "stderr",
     "output_type": "stream",
     "text": [
      "Best trial: 2. Best value: 0.612357:  49%|████▉     | 49/100 [00:36<00:38,  1.32it/s]"
     ]
    },
    {
     "name": "stdout",
     "output_type": "stream",
     "text": [
      "[I 2024-07-10 11:59:39,197] Trial 52 finished with value: 0.608466819221968 and parameters: {'n_estimators': 54, 'max_depth': 4, 'min_samples_split': 7, 'min_samples_leaf': 5}. Best is trial 2 with value: 0.6123569794050343.\n"
     ]
    },
    {
     "name": "stderr",
     "output_type": "stream",
     "text": [
      "Best trial: 2. Best value: 0.612357:  50%|█████     | 50/100 [00:36<00:33,  1.51it/s]"
     ]
    },
    {
     "name": "stdout",
     "output_type": "stream",
     "text": [
      "[I 2024-07-10 11:59:39,576] Trial 44 finished with value: 0.608466819221968 and parameters: {'n_estimators': 193, 'max_depth': 7, 'min_samples_split': 10, 'min_samples_leaf': 5}. Best is trial 2 with value: 0.6123569794050343.\n"
     ]
    },
    {
     "name": "stderr",
     "output_type": "stream",
     "text": [
      "Best trial: 2. Best value: 0.612357:  51%|█████     | 51/100 [00:37<00:31,  1.55it/s]"
     ]
    },
    {
     "name": "stdout",
     "output_type": "stream",
     "text": [
      "[I 2024-07-10 11:59:40,222] Trial 46 finished with value: 0.608466819221968 and parameters: {'n_estimators': 200, 'max_depth': 4, 'min_samples_split': 8, 'min_samples_leaf': 5}. Best is trial 2 with value: 0.6123569794050343.\n",
      "[I 2024-07-10 11:59:40,429] Trial 47 finished with value: 0.5986270022883295 and parameters: {'n_estimators': 194, 'max_depth': 4, 'min_samples_split': 8, 'min_samples_leaf': 5}. Best is trial 2 with value: 0.6123569794050343.\n"
     ]
    },
    {
     "name": "stderr",
     "output_type": "stream",
     "text": [
      "Best trial: 2. Best value: 0.612357:  52%|█████▏    | 52/100 [00:37<00:24,  1.96it/s]"
     ]
    },
    {
     "name": "stdout",
     "output_type": "stream",
     "text": [
      "[I 2024-07-10 11:59:40,502] Trial 45 finished with value: 0.608466819221968 and parameters: {'n_estimators': 196, 'max_depth': 7, 'min_samples_split': 10, 'min_samples_leaf': 6}. Best is trial 2 with value: 0.6123569794050343.\n"
     ]
    },
    {
     "name": "stderr",
     "output_type": "stream",
     "text": [
      "Best trial: 2. Best value: 0.612357:  54%|█████▍    | 54/100 [00:38<00:19,  2.30it/s]"
     ]
    },
    {
     "name": "stdout",
     "output_type": "stream",
     "text": [
      "[I 2024-07-10 11:59:40,985] Trial 57 finished with value: 0.608466819221968 and parameters: {'n_estimators': 13, 'max_depth': 5, 'min_samples_split': 2, 'min_samples_leaf': 6}. Best is trial 2 with value: 0.6123569794050343.\n"
     ]
    },
    {
     "name": "stderr",
     "output_type": "stream",
     "text": [
      "Best trial: 2. Best value: 0.612357:  55%|█████▌    | 55/100 [00:38<00:20,  2.21it/s]"
     ]
    },
    {
     "name": "stdout",
     "output_type": "stream",
     "text": [
      "[I 2024-07-10 11:59:41,536] Trial 58 finished with value: 0.608466819221968 and parameters: {'n_estimators': 10, 'max_depth': 5, 'min_samples_split': 10, 'min_samples_leaf': 6}. Best is trial 2 with value: 0.6123569794050343.\n",
      "[I 2024-07-10 11:59:41,730] Trial 60 finished with value: 0.0 and parameters: {'n_estimators': 10, 'max_depth': 3, 'min_samples_split': 2, 'min_samples_leaf': 6}. Best is trial 2 with value: 0.6123569794050343.\n"
     ]
    },
    {
     "name": "stderr",
     "output_type": "stream",
     "text": [
      "Best trial: 2. Best value: 0.612357:  57%|█████▋    | 57/100 [00:38<00:12,  3.34it/s]"
     ]
    },
    {
     "name": "stdout",
     "output_type": "stream",
     "text": [
      "[I 2024-07-10 11:59:41,770] Trial 59 finished with value: 0.4302059496567506 and parameters: {'n_estimators': 16, 'max_depth': 3, 'min_samples_split': 2, 'min_samples_leaf': 6}. Best is trial 2 with value: 0.6123569794050343.\n"
     ]
    },
    {
     "name": "stderr",
     "output_type": "stream",
     "text": [
      "Best trial: 2. Best value: 0.612357:  58%|█████▊    | 58/100 [00:39<00:18,  2.24it/s]"
     ]
    },
    {
     "name": "stdout",
     "output_type": "stream",
     "text": [
      "[I 2024-07-10 11:59:42,655] Trial 54 finished with value: 0.608466819221968 and parameters: {'n_estimators': 189, 'max_depth': 4, 'min_samples_split': 7, 'min_samples_leaf': 6}. Best is trial 2 with value: 0.6123569794050343.\n"
     ]
    },
    {
     "name": "stderr",
     "output_type": "stream",
     "text": [
      "Best trial: 2. Best value: 0.612357:  60%|██████    | 60/100 [00:40<00:15,  2.59it/s]"
     ]
    },
    {
     "name": "stdout",
     "output_type": "stream",
     "text": [
      "[I 2024-07-10 11:59:43,290] Trial 53 finished with value: 0.608466819221968 and parameters: {'n_estimators': 190, 'max_depth': 5, 'min_samples_split': 7, 'min_samples_leaf': 6}. Best is trial 2 with value: 0.6123569794050343.\n",
      "[I 2024-07-10 11:59:43,453] Trial 63 finished with value: 0.5931350114416476 and parameters: {'n_estimators': 22, 'max_depth': 10, 'min_samples_split': 9, 'min_samples_leaf': 9}. Best is trial 2 with value: 0.6123569794050343.\n",
      "[I 2024-07-10 11:59:43,491] Trial 62 finished with value: 0.6016018306636156 and parameters: {'n_estimators': 26, 'max_depth': 10, 'min_samples_split': 9, 'min_samples_leaf': 9}. Best is trial 2 with value: 0.6123569794050343.\n"
     ]
    },
    {
     "name": "stderr",
     "output_type": "stream",
     "text": [
      "Best trial: 2. Best value: 0.612357:  62%|██████▏   | 62/100 [00:40<00:09,  4.19it/s]"
     ]
    },
    {
     "name": "stdout",
     "output_type": "stream",
     "text": [
      "[I 2024-07-10 11:59:43,558] Trial 64 finished with value: 0.608466819221968 and parameters: {'n_estimators': 26, 'max_depth': 10, 'min_samples_split': 9, 'min_samples_leaf': 9}. Best is trial 2 with value: 0.6123569794050343.\n"
     ]
    },
    {
     "name": "stderr",
     "output_type": "stream",
     "text": [
      "Best trial: 2. Best value: 0.612357:  64%|██████▍   | 64/100 [00:41<00:11,  3.18it/s]"
     ]
    },
    {
     "name": "stdout",
     "output_type": "stream",
     "text": [
      "[I 2024-07-10 11:59:44,368] Trial 55 finished with value: 0.608466819221968 and parameters: {'n_estimators': 198, 'max_depth': 5, 'min_samples_split': 2, 'min_samples_leaf': 6}. Best is trial 2 with value: 0.6123569794050343.\n",
      "[I 2024-07-10 11:59:44,488] Trial 65 finished with value: 0.6118993135011441 and parameters: {'n_estimators': 29, 'max_depth': 10, 'min_samples_split': 3, 'min_samples_leaf': 9}. Best is trial 2 with value: 0.6123569794050343.\n"
     ]
    },
    {
     "name": "stderr",
     "output_type": "stream",
     "text": [
      "Best trial: 2. Best value: 0.612357:  65%|██████▌   | 65/100 [00:41<00:12,  2.84it/s]"
     ]
    },
    {
     "name": "stdout",
     "output_type": "stream",
     "text": [
      "[I 2024-07-10 11:59:44,810] Trial 66 finished with value: 0.608466819221968 and parameters: {'n_estimators': 22, 'max_depth': 10, 'min_samples_split': 9, 'min_samples_leaf': 9}. Best is trial 2 with value: 0.6123569794050343.\n"
     ]
    },
    {
     "name": "stderr",
     "output_type": "stream",
     "text": [
      "Best trial: 2. Best value: 0.612357:  66%|██████▌   | 66/100 [00:42<00:16,  2.08it/s]"
     ]
    },
    {
     "name": "stdout",
     "output_type": "stream",
     "text": [
      "[I 2024-07-10 11:59:45,720] Trial 56 finished with value: 0.608466819221968 and parameters: {'n_estimators': 197, 'max_depth': 5, 'min_samples_split': 2, 'min_samples_leaf': 6}. Best is trial 2 with value: 0.6123569794050343.\n"
     ]
    },
    {
     "name": "stderr",
     "output_type": "stream",
     "text": [
      "Best trial: 2. Best value: 0.612357:  67%|██████▋   | 67/100 [00:43<00:16,  1.96it/s]"
     ]
    },
    {
     "name": "stdout",
     "output_type": "stream",
     "text": [
      "[I 2024-07-10 11:59:46,310] Trial 61 finished with value: 0.4475972540045767 and parameters: {'n_estimators': 180, 'max_depth': 3, 'min_samples_split': 9, 'min_samples_leaf': 9}. Best is trial 2 with value: 0.6123569794050343.\n"
     ]
    },
    {
     "name": "stderr",
     "output_type": "stream",
     "text": [
      "Best trial: 2. Best value: 0.612357:  70%|███████   | 70/100 [00:45<00:18,  1.65it/s]"
     ]
    },
    {
     "name": "stdout",
     "output_type": "stream",
     "text": [
      "[I 2024-07-10 11:59:48,769] Trial 69 finished with value: 0.608466819221968 and parameters: {'n_estimators': 130, 'max_depth': 5, 'min_samples_split': 10, 'min_samples_leaf': 9}. Best is trial 2 with value: 0.6123569794050343.\n",
      "[I 2024-07-10 11:59:48,840] Trial 67 finished with value: 0.6075514874141876 and parameters: {'n_estimators': 138, 'max_depth': 5, 'min_samples_split': 10, 'min_samples_leaf': 9}. Best is trial 2 with value: 0.6123569794050343.\n",
      "[I 2024-07-10 11:59:48,845] Trial 68 finished with value: 0.608466819221968 and parameters: {'n_estimators': 135, 'max_depth': 5, 'min_samples_split': 10, 'min_samples_leaf': 9}. Best is trial 2 with value: 0.6123569794050343.\n"
     ]
    },
    {
     "name": "stderr",
     "output_type": "stream",
     "text": [
      "Best trial: 2. Best value: 0.612357:  71%|███████   | 71/100 [00:46<00:16,  1.74it/s]"
     ]
    },
    {
     "name": "stdout",
     "output_type": "stream",
     "text": [
      "[I 2024-07-10 11:59:49,355] Trial 70 finished with value: 0.5796338672768879 and parameters: {'n_estimators': 135, 'max_depth': 4, 'min_samples_split': 10, 'min_samples_leaf': 9}. Best is trial 2 with value: 0.6123569794050343.\n"
     ]
    },
    {
     "name": "stderr",
     "output_type": "stream",
     "text": [
      "Best trial: 2. Best value: 0.612357:  72%|███████▏  | 72/100 [00:46<00:14,  1.89it/s]"
     ]
    },
    {
     "name": "stdout",
     "output_type": "stream",
     "text": [
      "[I 2024-07-10 11:59:49,679] Trial 71 finished with value: 0.608466819221968 and parameters: {'n_estimators': 95, 'max_depth': 9, 'min_samples_split': 3, 'min_samples_leaf': 9}. Best is trial 2 with value: 0.6123569794050343.\n"
     ]
    },
    {
     "name": "stderr",
     "output_type": "stream",
     "text": [
      "Best trial: 2. Best value: 0.612357:  73%|███████▎  | 73/100 [00:47<00:12,  2.09it/s]"
     ]
    },
    {
     "name": "stdout",
     "output_type": "stream",
     "text": [
      "[I 2024-07-10 11:59:50,113] Trial 72 finished with value: 0.608466819221968 and parameters: {'n_estimators': 103, 'max_depth': 9, 'min_samples_split': 3, 'min_samples_leaf': 9}. Best is trial 2 with value: 0.6123569794050343.\n",
      "[I 2024-07-10 11:59:50,231] Trial 73 finished with value: 0.608466819221968 and parameters: {'n_estimators': 94, 'max_depth': 9, 'min_samples_split': 3, 'min_samples_leaf': 7}. Best is trial 2 with value: 0.6123569794050343.\n"
     ]
    },
    {
     "name": "stderr",
     "output_type": "stream",
     "text": [
      "Best trial: 2. Best value: 0.612357:  75%|███████▌  | 75/100 [00:47<00:09,  2.68it/s]"
     ]
    },
    {
     "name": "stdout",
     "output_type": "stream",
     "text": [
      "[I 2024-07-10 11:59:50,551] Trial 74 finished with value: 0.608466819221968 and parameters: {'n_estimators': 101, 'max_depth': 9, 'min_samples_split': 3, 'min_samples_leaf': 8}. Best is trial 2 with value: 0.6123569794050343.\n"
     ]
    },
    {
     "name": "stderr",
     "output_type": "stream",
     "text": [
      "Best trial: 79. Best value: 0.613959:  76%|███████▌  | 76/100 [00:49<00:18,  1.31it/s]"
     ]
    },
    {
     "name": "stdout",
     "output_type": "stream",
     "text": [
      "[I 2024-07-10 11:59:52,355] Trial 79 finished with value: 0.6139588100686499 and parameters: {'n_estimators': 33, 'max_depth': 10, 'min_samples_split': 5, 'min_samples_leaf': 10}. Best is trial 79 with value: 0.6139588100686499.\n"
     ]
    },
    {
     "name": "stderr",
     "output_type": "stream",
     "text": [
      "Best trial: 79. Best value: 0.613959:  77%|███████▋  | 77/100 [00:50<00:18,  1.24it/s]"
     ]
    },
    {
     "name": "stdout",
     "output_type": "stream",
     "text": [
      "[I 2024-07-10 11:59:53,260] Trial 82 finished with value: 0.608466819221968 and parameters: {'n_estimators': 35, 'max_depth': 10, 'min_samples_split': 5, 'min_samples_leaf': 10}. Best is trial 79 with value: 0.6139588100686499.\n"
     ]
    },
    {
     "name": "stderr",
     "output_type": "stream",
     "text": [
      "Best trial: 79. Best value: 0.613959:  78%|███████▊  | 78/100 [00:50<00:16,  1.33it/s]"
     ]
    },
    {
     "name": "stdout",
     "output_type": "stream",
     "text": [
      "[I 2024-07-10 11:59:53,898] Trial 75 finished with value: 0.608466819221968 and parameters: {'n_estimators': 96, 'max_depth': 9, 'min_samples_split': 3, 'min_samples_leaf': 8}. Best is trial 79 with value: 0.6139588100686499.\n"
     ]
    },
    {
     "name": "stderr",
     "output_type": "stream",
     "text": [
      "Best trial: 79. Best value: 0.613959:  80%|████████  | 80/100 [00:51<00:10,  1.83it/s]"
     ]
    },
    {
     "name": "stdout",
     "output_type": "stream",
     "text": [
      "[I 2024-07-10 11:59:54,479] Trial 76 finished with value: 0.608466819221968 and parameters: {'n_estimators': 101, 'max_depth': 9, 'min_samples_split': 3, 'min_samples_leaf': 8}. Best is trial 79 with value: 0.6139588100686499.\n",
      "[I 2024-07-10 11:59:54,659] Trial 77 finished with value: 0.608466819221968 and parameters: {'n_estimators': 98, 'max_depth': 9, 'min_samples_split': 3, 'min_samples_leaf': 8}. Best is trial 79 with value: 0.6139588100686499.\n"
     ]
    },
    {
     "name": "stderr",
     "output_type": "stream",
     "text": [
      "Best trial: 79. Best value: 0.613959:  81%|████████  | 81/100 [00:51<00:08,  2.19it/s]"
     ]
    },
    {
     "name": "stdout",
     "output_type": "stream",
     "text": [
      "[I 2024-07-10 11:59:54,893] Trial 78 finished with value: 0.608466819221968 and parameters: {'n_estimators': 94, 'max_depth': 9, 'min_samples_split': 3, 'min_samples_leaf': 10}. Best is trial 79 with value: 0.6139588100686499.\n"
     ]
    },
    {
     "name": "stderr",
     "output_type": "stream",
     "text": [
      "Best trial: 79. Best value: 0.613959:  82%|████████▏ | 82/100 [00:52<00:07,  2.50it/s]"
     ]
    },
    {
     "name": "stdout",
     "output_type": "stream",
     "text": [
      "[I 2024-07-10 11:59:55,096] Trial 81 finished with value: 0.608466819221968 and parameters: {'n_estimators': 65, 'max_depth': 10, 'min_samples_split': 5, 'min_samples_leaf': 10}. Best is trial 79 with value: 0.6139588100686499.\n"
     ]
    },
    {
     "name": "stderr",
     "output_type": "stream",
     "text": [
      "Best trial: 79. Best value: 0.613959:  83%|████████▎ | 83/100 [00:53<00:10,  1.67it/s]"
     ]
    },
    {
     "name": "stdout",
     "output_type": "stream",
     "text": [
      "[I 2024-07-10 11:59:56,202] Trial 83 finished with value: 0.608466819221968 and parameters: {'n_estimators': 57, 'max_depth': 10, 'min_samples_split': 5, 'min_samples_leaf': 10}. Best is trial 79 with value: 0.6139588100686499.\n"
     ]
    },
    {
     "name": "stderr",
     "output_type": "stream",
     "text": [
      "Best trial: 79. Best value: 0.613959:  84%|████████▍ | 84/100 [00:53<00:10,  1.57it/s]"
     ]
    },
    {
     "name": "stdout",
     "output_type": "stream",
     "text": [
      "[I 2024-07-10 11:59:56,872] Trial 84 finished with value: 0.608466819221968 and parameters: {'n_estimators': 54, 'max_depth': 10, 'min_samples_split': 5, 'min_samples_leaf': 10}. Best is trial 79 with value: 0.6139588100686499.\n"
     ]
    },
    {
     "name": "stderr",
     "output_type": "stream",
     "text": [
      "Best trial: 79. Best value: 0.613959:  85%|████████▌ | 85/100 [00:54<00:09,  1.55it/s]"
     ]
    },
    {
     "name": "stdout",
     "output_type": "stream",
     "text": [
      "[I 2024-07-10 11:59:57,620] Trial 85 finished with value: 0.6041189931350115 and parameters: {'n_estimators': 59, 'max_depth': 10, 'min_samples_split': 5, 'min_samples_leaf': 10}. Best is trial 79 with value: 0.6139588100686499.\n"
     ]
    },
    {
     "name": "stderr",
     "output_type": "stream",
     "text": [
      "Best trial: 86. Best value: 0.615561:  87%|████████▋ | 87/100 [00:55<00:07,  1.74it/s]"
     ]
    },
    {
     "name": "stdout",
     "output_type": "stream",
     "text": [
      "[I 2024-07-10 11:59:58,011] Trial 86 finished with value: 0.6155606407322655 and parameters: {'n_estimators': 54, 'max_depth': 10, 'min_samples_split': 10, 'min_samples_leaf': 10}. Best is trial 86 with value: 0.6155606407322655.\n",
      "[I 2024-07-10 11:59:58,031] Trial 89 finished with value: 0.608466819221968 and parameters: {'n_estimators': 37, 'max_depth': 10, 'min_samples_split': 5, 'min_samples_leaf': 10}. Best is trial 86 with value: 0.6155606407322655.\n",
      "[I 2024-07-10 11:59:58,060] Trial 87 finished with value: 0.608466819221968 and parameters: {'n_estimators': 55, 'max_depth': 10, 'min_samples_split': 5, 'min_samples_leaf': 10}. Best is trial 86 with value: 0.6155606407322655.\n"
     ]
    },
    {
     "name": "stderr",
     "output_type": "stream",
     "text": [
      "Best trial: 86. Best value: 0.615561:  89%|████████▉ | 89/100 [00:55<00:03,  2.89it/s]"
     ]
    },
    {
     "name": "stdout",
     "output_type": "stream",
     "text": [
      "[I 2024-07-10 11:59:58,555] Trial 88 finished with value: 0.608466819221968 and parameters: {'n_estimators': 52, 'max_depth': 10, 'min_samples_split': 5, 'min_samples_leaf': 10}. Best is trial 86 with value: 0.6155606407322655.\n"
     ]
    },
    {
     "name": "stderr",
     "output_type": "stream",
     "text": [
      "Best trial: 86. Best value: 0.615561:  90%|█████████ | 90/100 [00:55<00:03,  2.97it/s]"
     ]
    },
    {
     "name": "stdout",
     "output_type": "stream",
     "text": [
      "[I 2024-07-10 11:59:58,871] Trial 80 finished with value: 0.608466819221968 and parameters: {'n_estimators': 146, 'max_depth': 10, 'min_samples_split': 3, 'min_samples_leaf': 10}. Best is trial 86 with value: 0.6155606407322655.\n"
     ]
    },
    {
     "name": "stderr",
     "output_type": "stream",
     "text": [
      "Best trial: 86. Best value: 0.615561:  91%|█████████ | 91/100 [00:56<00:04,  1.92it/s]"
     ]
    },
    {
     "name": "stdout",
     "output_type": "stream",
     "text": [
      "[I 2024-07-10 11:59:59,896] Trial 92 finished with value: 0.6153318077803204 and parameters: {'n_estimators': 38, 'max_depth': 10, 'min_samples_split': 10, 'min_samples_leaf': 2}. Best is trial 86 with value: 0.6155606407322655.\n"
     ]
    },
    {
     "name": "stderr",
     "output_type": "stream",
     "text": [
      "Best trial: 86. Best value: 0.615561:  92%|█████████▏| 92/100 [00:57<00:04,  1.66it/s]"
     ]
    },
    {
     "name": "stdout",
     "output_type": "stream",
     "text": [
      "[I 2024-07-10 12:00:00,709] Trial 94 finished with value: 0.6155606407322655 and parameters: {'n_estimators': 39, 'max_depth': 10, 'min_samples_split': 10, 'min_samples_leaf': 3}. Best is trial 86 with value: 0.6155606407322655.\n"
     ]
    },
    {
     "name": "stderr",
     "output_type": "stream",
     "text": [
      "Best trial: 86. Best value: 0.615561:  93%|█████████▎| 93/100 [00:58<00:04,  1.66it/s]"
     ]
    },
    {
     "name": "stdout",
     "output_type": "stream",
     "text": [
      "[I 2024-07-10 12:00:01,255] Trial 97 finished with value: 0.608466819221968 and parameters: {'n_estimators': 30, 'max_depth': 10, 'min_samples_split': 10, 'min_samples_leaf': 7}. Best is trial 86 with value: 0.6155606407322655.\n"
     ]
    },
    {
     "name": "stderr",
     "output_type": "stream",
     "text": [
      "Best trial: 86. Best value: 0.615561:  94%|█████████▍| 94/100 [00:59<00:04,  1.21it/s]"
     ]
    },
    {
     "name": "stdout",
     "output_type": "stream",
     "text": [
      "[I 2024-07-10 12:00:02,678] Trial 93 finished with value: 0.6141876430205949 and parameters: {'n_estimators': 75, 'max_depth': 10, 'min_samples_split': 10, 'min_samples_leaf': 2}. Best is trial 86 with value: 0.6155606407322655.\n"
     ]
    },
    {
     "name": "stderr",
     "output_type": "stream",
     "text": [
      "Best trial: 86. Best value: 0.615561:  95%|█████████▌| 95/100 [00:59<00:03,  1.54it/s]"
     ]
    },
    {
     "name": "stdout",
     "output_type": "stream",
     "text": [
      "[I 2024-07-10 12:00:02,877] Trial 96 finished with value: 0.608466819221968 and parameters: {'n_estimators': 69, 'max_depth': 10, 'min_samples_split': 10, 'min_samples_leaf': 7}. Best is trial 86 with value: 0.6155606407322655.\n",
      "[I 2024-07-10 12:00:02,948] Trial 95 finished with value: 0.608466819221968 and parameters: {'n_estimators': 73, 'max_depth': 10, 'min_samples_split': 10, 'min_samples_leaf': 3}. Best is trial 86 with value: 0.6155606407322655.\n"
     ]
    },
    {
     "name": "stderr",
     "output_type": "stream",
     "text": [
      "Best trial: 86. Best value: 0.615561: 100%|██████████| 100/100 [01:00<00:00,  1.65it/s]"
     ]
    },
    {
     "name": "stdout",
     "output_type": "stream",
     "text": [
      "[I 2024-07-10 12:00:03,577] Trial 98 finished with value: 0.6155606407322655 and parameters: {'n_estimators': 72, 'max_depth': 10, 'min_samples_split': 10, 'min_samples_leaf': 2}. Best is trial 86 with value: 0.6155606407322655.\n",
      "[I 2024-07-10 12:00:03,743] Trial 90 finished with value: 0.6135011441647598 and parameters: {'n_estimators': 148, 'max_depth': 10, 'min_samples_split': 10, 'min_samples_leaf': 10}. Best is trial 86 with value: 0.6155606407322655.\n",
      "[I 2024-07-10 12:00:03,769] Trial 91 finished with value: 0.608466819221968 and parameters: {'n_estimators': 145, 'max_depth': 10, 'min_samples_split': 10, 'min_samples_leaf': 7}. Best is trial 86 with value: 0.6155606407322655.\n",
      "[I 2024-07-10 12:00:03,770] Trial 99 finished with value: 0.6070938215102974 and parameters: {'n_estimators': 70, 'max_depth': 10, 'min_samples_split': 10, 'min_samples_leaf': 2}. Best is trial 86 with value: 0.6155606407322655.\n",
      "Best test recall: 61.56%\n",
      "n_estimators: 54\n",
      "max_depth: 10\n",
      "min_samples_split: 10\n",
      "min_samples_leaf: 10\n"
     ]
    },
    {
     "name": "stderr",
     "output_type": "stream",
     "text": [
      "\n"
     ]
    }
   ],
   "source": [
    "study = optuna.create_study(direction='maximize', study_name='xgb_study')\n",
    "study.optimize(optimize_rf, n_trials=100, n_jobs=-1, show_progress_bar=True)\n",
    "\n",
    "print(f\"Best test recall: {study.best_value:.2%}\")\n",
    "for key, value in study.best_params.items():\n",
    "    print(f\"{key}: {value}\")"
   ]
  },
  {
   "cell_type": "code",
   "execution_count": 212,
   "metadata": {},
   "outputs": [
    {
     "name": "stdout",
     "output_type": "stream",
     "text": [
      "Accuracy: 0.6738910440209142\n",
      "Recall: 0.608466819221968\n",
      "AUC-ROC: 0.6602697343973088\n"
     ]
    },
    {
     "data": {
      "text/plain": [
       "<Axes: >"
      ]
     },
     "execution_count": 212,
     "metadata": {},
     "output_type": "execute_result"
    },
    {
     "data": {
      "image/png": "[encoded data removed]",
      "text/plain": [
       "<Figure size 640x480 with 2 Axes>"
      ]
     },
     "metadata": {},
     "output_type": "display_data"
    }
   ],
   "source": [
    "best_rf = RandomForestClassifier(**study.best_params, n_jobs=-1)\n",
    "best_rf.fit(X_train, y_train)\n",
    "\n",
    "y_pred = best_rf.predict(X_test)\n",
    "print(f\"Accuracy: {accuracy_score(y_test, y_pred)}\")\n",
    "print(f\"Recall: {recall_score(y_test, y_pred)}\")\n",
    "print(f\"AUC-ROC: {roc_auc_score(y_test, y_pred)}\")\n",
    "\n",
    "sns.heatmap(confusion_matrix(y_test, y_pred, labels = lr.classes_), annot = True)"
   ]
  },
  {
   "cell_type": "markdown",
   "metadata": {},
   "source": [
    "- Hyperparameter tuning increased the recall significantly from 0.48 to 0.61. \n",
    "- More no-show cancellations are classified correctly."
   ]
  },
  {
   "cell_type": "markdown",
   "metadata": {},
   "source": []
  }
 ],
 "metadata": {
  "kernelspec": {
   "display_name": "Python 3",
   "language": "python",
   "name": "python3"
  },
  "language_info": {
   "codemirror_mode": {
    "name": "ipython",
    "version": 3
   },
   "file_extension": ".py",
   "mimetype": "text/x-python",
   "name": "python",
   "nbconvert_exporter": "python",
   "pygments_lexer": "ipython3",
   "version": "3.9.6"
  }
 },
 "nbformat": 4,
 "nbformat_minor": 2
}
